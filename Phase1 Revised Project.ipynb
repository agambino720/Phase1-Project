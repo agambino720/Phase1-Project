{
 "cells": [
  {
   "cell_type": "code",
   "execution_count": null,
   "metadata": {},
   "outputs": [],
   "source": [
    "#Beginning project in which I will clean and analyze aviation data for the purpose of making 3 recommendations regarding mitigating risk when entering the aircraft industry. My analysis will seek to determine which specific characteristics of aircraft are associated with increased safety (certain engine types, amounts of engines, models, etc) Anyone entering into the aircraft industry and seeking to purchase planes could utilize this information in order to minimize risk in their investment by purchasing planes that are equipped with features associated with increased safety or by purchasing planes that are themselves safer. "
   ]
  },
  {
   "cell_type": "code",
   "execution_count": 1,
   "metadata": {},
   "outputs": [
    {
     "name": "stderr",
     "output_type": "stream",
     "text": [
      "C:\\Users\\agamb\\anaconda3\\envs\\learn-env\\lib\\site-packages\\IPython\\core\\interactiveshell.py:3145: DtypeWarning: Columns (6,7,28) have mixed types.Specify dtype option on import or set low_memory=False.\n",
      "  has_raised = await self.run_ast_nodes(code_ast.body, cell_name,\n"
     ]
    },
    {
     "data": {
      "text/html": [
       "<div>\n",
       "<style scoped>\n",
       "    .dataframe tbody tr th:only-of-type {\n",
       "        vertical-align: middle;\n",
       "    }\n",
       "\n",
       "    .dataframe tbody tr th {\n",
       "        vertical-align: top;\n",
       "    }\n",
       "\n",
       "    .dataframe thead th {\n",
       "        text-align: right;\n",
       "    }\n",
       "</style>\n",
       "<table border=\"1\" class=\"dataframe\">\n",
       "  <thead>\n",
       "    <tr style=\"text-align: right;\">\n",
       "      <th></th>\n",
       "      <th>Event.Id</th>\n",
       "      <th>Investigation.Type</th>\n",
       "      <th>Accident.Number</th>\n",
       "      <th>Event.Date</th>\n",
       "      <th>Location</th>\n",
       "      <th>Country</th>\n",
       "      <th>Latitude</th>\n",
       "      <th>Longitude</th>\n",
       "      <th>Airport.Code</th>\n",
       "      <th>Airport.Name</th>\n",
       "      <th>...</th>\n",
       "      <th>Purpose.of.flight</th>\n",
       "      <th>Air.carrier</th>\n",
       "      <th>Total.Fatal.Injuries</th>\n",
       "      <th>Total.Serious.Injuries</th>\n",
       "      <th>Total.Minor.Injuries</th>\n",
       "      <th>Total.Uninjured</th>\n",
       "      <th>Weather.Condition</th>\n",
       "      <th>Broad.phase.of.flight</th>\n",
       "      <th>Report.Status</th>\n",
       "      <th>Publication.Date</th>\n",
       "    </tr>\n",
       "  </thead>\n",
       "  <tbody>\n",
       "    <tr>\n",
       "      <th>0</th>\n",
       "      <td>20001218X45444</td>\n",
       "      <td>Accident</td>\n",
       "      <td>SEA87LA080</td>\n",
       "      <td>1948-10-24</td>\n",
       "      <td>MOOSE CREEK, ID</td>\n",
       "      <td>United States</td>\n",
       "      <td>NaN</td>\n",
       "      <td>NaN</td>\n",
       "      <td>NaN</td>\n",
       "      <td>NaN</td>\n",
       "      <td>...</td>\n",
       "      <td>Personal</td>\n",
       "      <td>NaN</td>\n",
       "      <td>2.0</td>\n",
       "      <td>0.0</td>\n",
       "      <td>0.0</td>\n",
       "      <td>0.0</td>\n",
       "      <td>UNK</td>\n",
       "      <td>Cruise</td>\n",
       "      <td>Probable Cause</td>\n",
       "      <td>NaN</td>\n",
       "    </tr>\n",
       "    <tr>\n",
       "      <th>1</th>\n",
       "      <td>20001218X45447</td>\n",
       "      <td>Accident</td>\n",
       "      <td>LAX94LA336</td>\n",
       "      <td>1962-07-19</td>\n",
       "      <td>BRIDGEPORT, CA</td>\n",
       "      <td>United States</td>\n",
       "      <td>NaN</td>\n",
       "      <td>NaN</td>\n",
       "      <td>NaN</td>\n",
       "      <td>NaN</td>\n",
       "      <td>...</td>\n",
       "      <td>Personal</td>\n",
       "      <td>NaN</td>\n",
       "      <td>4.0</td>\n",
       "      <td>0.0</td>\n",
       "      <td>0.0</td>\n",
       "      <td>0.0</td>\n",
       "      <td>UNK</td>\n",
       "      <td>Unknown</td>\n",
       "      <td>Probable Cause</td>\n",
       "      <td>19-09-1996</td>\n",
       "    </tr>\n",
       "    <tr>\n",
       "      <th>2</th>\n",
       "      <td>20061025X01555</td>\n",
       "      <td>Accident</td>\n",
       "      <td>NYC07LA005</td>\n",
       "      <td>1974-08-30</td>\n",
       "      <td>Saltville, VA</td>\n",
       "      <td>United States</td>\n",
       "      <td>36.9222</td>\n",
       "      <td>-81.8781</td>\n",
       "      <td>NaN</td>\n",
       "      <td>NaN</td>\n",
       "      <td>...</td>\n",
       "      <td>Personal</td>\n",
       "      <td>NaN</td>\n",
       "      <td>3.0</td>\n",
       "      <td>NaN</td>\n",
       "      <td>NaN</td>\n",
       "      <td>NaN</td>\n",
       "      <td>IMC</td>\n",
       "      <td>Cruise</td>\n",
       "      <td>Probable Cause</td>\n",
       "      <td>26-02-2007</td>\n",
       "    </tr>\n",
       "    <tr>\n",
       "      <th>3</th>\n",
       "      <td>20001218X45448</td>\n",
       "      <td>Accident</td>\n",
       "      <td>LAX96LA321</td>\n",
       "      <td>1977-06-19</td>\n",
       "      <td>EUREKA, CA</td>\n",
       "      <td>United States</td>\n",
       "      <td>NaN</td>\n",
       "      <td>NaN</td>\n",
       "      <td>NaN</td>\n",
       "      <td>NaN</td>\n",
       "      <td>...</td>\n",
       "      <td>Personal</td>\n",
       "      <td>NaN</td>\n",
       "      <td>2.0</td>\n",
       "      <td>0.0</td>\n",
       "      <td>0.0</td>\n",
       "      <td>0.0</td>\n",
       "      <td>IMC</td>\n",
       "      <td>Cruise</td>\n",
       "      <td>Probable Cause</td>\n",
       "      <td>12-09-2000</td>\n",
       "    </tr>\n",
       "    <tr>\n",
       "      <th>4</th>\n",
       "      <td>20041105X01764</td>\n",
       "      <td>Accident</td>\n",
       "      <td>CHI79FA064</td>\n",
       "      <td>1979-08-02</td>\n",
       "      <td>Canton, OH</td>\n",
       "      <td>United States</td>\n",
       "      <td>NaN</td>\n",
       "      <td>NaN</td>\n",
       "      <td>NaN</td>\n",
       "      <td>NaN</td>\n",
       "      <td>...</td>\n",
       "      <td>Personal</td>\n",
       "      <td>NaN</td>\n",
       "      <td>1.0</td>\n",
       "      <td>2.0</td>\n",
       "      <td>NaN</td>\n",
       "      <td>0.0</td>\n",
       "      <td>VMC</td>\n",
       "      <td>Approach</td>\n",
       "      <td>Probable Cause</td>\n",
       "      <td>16-04-1980</td>\n",
       "    </tr>\n",
       "  </tbody>\n",
       "</table>\n",
       "<p>5 rows × 31 columns</p>\n",
       "</div>"
      ],
      "text/plain": [
       "         Event.Id Investigation.Type Accident.Number  Event.Date  \\\n",
       "0  20001218X45444           Accident      SEA87LA080  1948-10-24   \n",
       "1  20001218X45447           Accident      LAX94LA336  1962-07-19   \n",
       "2  20061025X01555           Accident      NYC07LA005  1974-08-30   \n",
       "3  20001218X45448           Accident      LAX96LA321  1977-06-19   \n",
       "4  20041105X01764           Accident      CHI79FA064  1979-08-02   \n",
       "\n",
       "          Location        Country Latitude Longitude Airport.Code  \\\n",
       "0  MOOSE CREEK, ID  United States      NaN       NaN          NaN   \n",
       "1   BRIDGEPORT, CA  United States      NaN       NaN          NaN   \n",
       "2    Saltville, VA  United States  36.9222  -81.8781          NaN   \n",
       "3       EUREKA, CA  United States      NaN       NaN          NaN   \n",
       "4       Canton, OH  United States      NaN       NaN          NaN   \n",
       "\n",
       "  Airport.Name  ... Purpose.of.flight Air.carrier Total.Fatal.Injuries  \\\n",
       "0          NaN  ...          Personal         NaN                  2.0   \n",
       "1          NaN  ...          Personal         NaN                  4.0   \n",
       "2          NaN  ...          Personal         NaN                  3.0   \n",
       "3          NaN  ...          Personal         NaN                  2.0   \n",
       "4          NaN  ...          Personal         NaN                  1.0   \n",
       "\n",
       "  Total.Serious.Injuries Total.Minor.Injuries Total.Uninjured  \\\n",
       "0                    0.0                  0.0             0.0   \n",
       "1                    0.0                  0.0             0.0   \n",
       "2                    NaN                  NaN             NaN   \n",
       "3                    0.0                  0.0             0.0   \n",
       "4                    2.0                  NaN             0.0   \n",
       "\n",
       "  Weather.Condition  Broad.phase.of.flight   Report.Status Publication.Date  \n",
       "0               UNK                 Cruise  Probable Cause              NaN  \n",
       "1               UNK                Unknown  Probable Cause       19-09-1996  \n",
       "2               IMC                 Cruise  Probable Cause       26-02-2007  \n",
       "3               IMC                 Cruise  Probable Cause       12-09-2000  \n",
       "4               VMC               Approach  Probable Cause       16-04-1980  \n",
       "\n",
       "[5 rows x 31 columns]"
      ]
     },
     "execution_count": 1,
     "metadata": {},
     "output_type": "execute_result"
    }
   ],
   "source": [
    "import pandas as pd\n",
    "import numpy as np\n",
    "import seaborn as sns\n",
    "import matplotlib.pyplot as plt\n",
    "\n",
    "%matplotlib inline\n",
    "#importing pandas,numpy,seaborn,matplotlib\n",
    "\n",
    "path = \"C:\\\\Users\\\\agamb\\\\Documents\\\\Flatiron\\\\Phase1\\\\Aviation_Data.csv\"\n",
    "df = pd.read_csv(path)\n",
    "df.head()\n",
    "#importing the data using pandas and displaying the head"
   ]
  },
  {
   "cell_type": "code",
   "execution_count": 2,
   "metadata": {},
   "outputs": [
    {
     "name": "stdout",
     "output_type": "stream",
     "text": [
      "<class 'pandas.core.frame.DataFrame'>\n",
      "RangeIndex: 90348 entries, 0 to 90347\n",
      "Data columns (total 31 columns):\n",
      " #   Column                  Non-Null Count  Dtype  \n",
      "---  ------                  --------------  -----  \n",
      " 0   Event.Id                88889 non-null  object \n",
      " 1   Investigation.Type      90348 non-null  object \n",
      " 2   Accident.Number         88889 non-null  object \n",
      " 3   Event.Date              88889 non-null  object \n",
      " 4   Location                88837 non-null  object \n",
      " 5   Country                 88663 non-null  object \n",
      " 6   Latitude                34382 non-null  object \n",
      " 7   Longitude               34373 non-null  object \n",
      " 8   Airport.Code            50249 non-null  object \n",
      " 9   Airport.Name            52790 non-null  object \n",
      " 10  Injury.Severity         87889 non-null  object \n",
      " 11  Aircraft.damage         85695 non-null  object \n",
      " 12  Aircraft.Category       32287 non-null  object \n",
      " 13  Registration.Number     87572 non-null  object \n",
      " 14  Make                    88826 non-null  object \n",
      " 15  Model                   88797 non-null  object \n",
      " 16  Amateur.Built           88787 non-null  object \n",
      " 17  Number.of.Engines       82805 non-null  float64\n",
      " 18  Engine.Type             81812 non-null  object \n",
      " 19  FAR.Description         32023 non-null  object \n",
      " 20  Schedule                12582 non-null  object \n",
      " 21  Purpose.of.flight       82697 non-null  object \n",
      " 22  Air.carrier             16648 non-null  object \n",
      " 23  Total.Fatal.Injuries    77488 non-null  float64\n",
      " 24  Total.Serious.Injuries  76379 non-null  float64\n",
      " 25  Total.Minor.Injuries    76956 non-null  float64\n",
      " 26  Total.Uninjured         82977 non-null  float64\n",
      " 27  Weather.Condition       84397 non-null  object \n",
      " 28  Broad.phase.of.flight   61724 non-null  object \n",
      " 29  Report.Status           82508 non-null  object \n",
      " 30  Publication.Date        73659 non-null  object \n",
      "dtypes: float64(5), object(26)\n",
      "memory usage: 21.4+ MB\n"
     ]
    }
   ],
   "source": [
    "df.info()\n",
    "#investigating data's columns"
   ]
  },
  {
   "cell_type": "code",
   "execution_count": 3,
   "metadata": {},
   "outputs": [
    {
     "data": {
      "text/plain": [
       "Event.Id                   1459\n",
       "Investigation.Type            0\n",
       "Accident.Number            1459\n",
       "Event.Date                 1459\n",
       "Location                   1511\n",
       "Country                    1685\n",
       "Latitude                  55966\n",
       "Longitude                 55975\n",
       "Airport.Code              40099\n",
       "Airport.Name              37558\n",
       "Injury.Severity            2459\n",
       "Aircraft.damage            4653\n",
       "Aircraft.Category         58061\n",
       "Registration.Number        2776\n",
       "Make                       1522\n",
       "Model                      1551\n",
       "Amateur.Built              1561\n",
       "Number.of.Engines          7543\n",
       "Engine.Type                8536\n",
       "FAR.Description           58325\n",
       "Schedule                  77766\n",
       "Purpose.of.flight          7651\n",
       "Air.carrier               73700\n",
       "Total.Fatal.Injuries      12860\n",
       "Total.Serious.Injuries    13969\n",
       "Total.Minor.Injuries      13392\n",
       "Total.Uninjured            7371\n",
       "Weather.Condition          5951\n",
       "Broad.phase.of.flight     28624\n",
       "Report.Status              7840\n",
       "Publication.Date          16689\n",
       "dtype: int64"
      ]
     },
     "execution_count": 3,
     "metadata": {},
     "output_type": "execute_result"
    }
   ],
   "source": [
    "df.isnull().sum()\n",
    "#checking for total null rows per column"
   ]
  },
  {
   "cell_type": "code",
   "execution_count": null,
   "metadata": {},
   "outputs": [],
   "source": [
    "#cleaning make and model"
   ]
  },
  {
   "cell_type": "code",
   "execution_count": 4,
   "metadata": {},
   "outputs": [],
   "source": [
    "df = df.dropna(subset=['Make', 'Model'], how='any')\n",
    "#deleting rows that are null for either Make or Model"
   ]
  },
  {
   "cell_type": "code",
   "execution_count": 5,
   "metadata": {},
   "outputs": [],
   "source": [
    "df = df.drop(columns=['Latitude', 'Longitude', 'Airport.Code', 'Airport.Name', 'FAR.Description', 'Schedule', 'Air.carrier'])\n",
    "#dropping irrelevant columns"
   ]
  },
  {
   "cell_type": "code",
   "execution_count": 6,
   "metadata": {},
   "outputs": [
    {
     "data": {
      "text/plain": [
       "Non-Fatal     67305\n",
       "Fatal(1)       6159\n",
       "Fatal          5248\n",
       "Fatal(2)       3703\n",
       "Incident       2214\n",
       "              ...  \n",
       "Fatal(72)         1\n",
       "Fatal(153)        1\n",
       "Fatal(37)         1\n",
       "Fatal(114)        1\n",
       "Fatal(73)         1\n",
       "Name: Injury.Severity, Length: 109, dtype: int64"
      ]
     },
     "execution_count": 6,
     "metadata": {},
     "output_type": "execute_result"
    }
   ],
   "source": [
    "df[\"Injury.Severity\"].value_counts()\n",
    "#checking the value counts of injury severity"
   ]
  },
  {
   "cell_type": "code",
   "execution_count": null,
   "metadata": {},
   "outputs": [],
   "source": [
    "#cleaning total fatal injuries and injury severity"
   ]
  },
  {
   "cell_type": "code",
   "execution_count": 7,
   "metadata": {},
   "outputs": [
    {
     "name": "stdout",
     "output_type": "stream",
     "text": [
      "0\n"
     ]
    }
   ],
   "source": [
    "df['Injury.Severity'] = df.apply(lambda row: 'Non-Fatal' if row['Injury.Severity'] == 'Fatal' and row['Total.Fatal.Injuries'] == 0 else row['Injury.Severity'], axis=1)\n",
    "print(df[(df['Injury.Severity'] == 'Fatal') & (df['Total.Fatal.Injuries'] == 0)].shape[0])\n",
    "#changing fatal entries to non-fatal if there are 0 total fatal injurues and checking that it worked"
   ]
  },
  {
   "cell_type": "code",
   "execution_count": 8,
   "metadata": {},
   "outputs": [],
   "source": [
    "def impute_fatalities(row):\n",
    "    if pd.isna(row['Total.Fatal.Injuries']) and 'Fatal(' in row['Injury.Severity']:\n",
    "        return int(row['Injury.Severity'].split('(')[1].split(')')[0])\n",
    "    return row['Total.Fatal.Injuries']\n",
    "\n",
    "df['Total.Fatal.Injuries'] = df.apply(impute_fatalities, axis=1)\n",
    "\n",
    "#imputing the number in parenthesis after Fatal from Injury Severity into Total Fatal Injuries when Total Fatal Injuries is null"
   ]
  },
  {
   "cell_type": "code",
   "execution_count": 9,
   "metadata": {},
   "outputs": [
    {
     "data": {
      "text/plain": [
       "11386"
      ]
     },
     "execution_count": 9,
     "metadata": {},
     "output_type": "execute_result"
    }
   ],
   "source": [
    "df[\"Total.Fatal.Injuries\"].isnull().sum()\n",
    "#checking how many null values remain in Total Fatal Injuries"
   ]
  },
  {
   "cell_type": "code",
   "execution_count": 10,
   "metadata": {},
   "outputs": [],
   "source": [
    "def impute_nonfatal(row):\n",
    "    if row['Injury.Severity'] == 'Non-Fatal' and pd.isna(row['Total.Fatal.Injuries']):\n",
    "        row['Total.Fatal.Injuries'] = 0\n",
    "    return row\n",
    "\n",
    "df = df.apply(impute_nonfatal, axis=1)\n",
    "#imputing Total Fatal Injuries with 0 when it is null and Injury Severity is non fatal"
   ]
  },
  {
   "cell_type": "code",
   "execution_count": 11,
   "metadata": {},
   "outputs": [
    {
     "data": {
      "text/plain": [
       "724"
      ]
     },
     "execution_count": 11,
     "metadata": {},
     "output_type": "execute_result"
    }
   ],
   "source": [
    "df[\"Total.Fatal.Injuries\"].isnull().sum()\n",
    "#checking how many null values remain in Total Fatal Injuries"
   ]
  },
  {
   "cell_type": "code",
   "execution_count": 12,
   "metadata": {},
   "outputs": [
    {
     "data": {
      "text/plain": [
       "Event.Id                      0\n",
       "Investigation.Type            0\n",
       "Accident.Number               0\n",
       "Event.Date                    0\n",
       "Location                     52\n",
       "Country                     225\n",
       "Injury.Severity             979\n",
       "Aircraft.damage            3172\n",
       "Aircraft.Category         56532\n",
       "Registration.Number        1275\n",
       "Make                          0\n",
       "Model                         0\n",
       "Amateur.Built                99\n",
       "Number.of.Engines          6023\n",
       "Engine.Type                7006\n",
       "Purpose.of.flight          6138\n",
       "Total.Fatal.Injuries        724\n",
       "Total.Serious.Injuries    12490\n",
       "Total.Minor.Injuries      11914\n",
       "Total.Uninjured            5897\n",
       "Weather.Condition          4439\n",
       "Broad.phase.of.flight     27094\n",
       "Report.Status              6335\n",
       "Publication.Date          15224\n",
       "dtype: int64"
      ]
     },
     "execution_count": 12,
     "metadata": {},
     "output_type": "execute_result"
    }
   ],
   "source": [
    "df.isnull().sum()\n",
    "#checking how many null values remain per column"
   ]
  },
  {
   "cell_type": "code",
   "execution_count": 13,
   "metadata": {},
   "outputs": [
    {
     "data": {
      "text/plain": [
       "Incident       640\n",
       "Unavailable     84\n",
       "Name: Injury.Severity, dtype: int64"
      ]
     },
     "execution_count": 13,
     "metadata": {},
     "output_type": "execute_result"
    }
   ],
   "source": [
    "df[df['Total.Fatal.Injuries'].isnull()]['Injury.Severity'].value_counts()\n",
    "#checking the value counts in injury severity for rows that are null in total fatal injuries"
   ]
  },
  {
   "cell_type": "code",
   "execution_count": 14,
   "metadata": {},
   "outputs": [
    {
     "data": {
      "text/plain": [
       "NaN    84\n",
       "0.0    11\n",
       "Name: Total.Fatal.Injuries, dtype: int64"
      ]
     },
     "execution_count": 14,
     "metadata": {},
     "output_type": "execute_result"
    }
   ],
   "source": [
    "df[df['Injury.Severity'] == 'Unavailable']['Total.Fatal.Injuries'].value_counts(dropna=False)\n",
    "#checking the value counts for total fatal injuries in rows where injury severity is unavilaible  "
   ]
  },
  {
   "cell_type": "code",
   "execution_count": 15,
   "metadata": {},
   "outputs": [
    {
     "data": {
      "text/plain": [
       "0.0    979\n",
       "Name: Total.Fatal.Injuries, dtype: int64"
      ]
     },
     "execution_count": 15,
     "metadata": {},
     "output_type": "execute_result"
    }
   ],
   "source": [
    "df[df['Injury.Severity'].isnull()]['Total.Fatal.Injuries'].value_counts()\n",
    "#checking value counts in total fatal injuries for rows that are null in injury severity"
   ]
  },
  {
   "cell_type": "code",
   "execution_count": 16,
   "metadata": {},
   "outputs": [],
   "source": [
    "def impute_injury_severity(row):\n",
    "    return 'Non-Fatal' if pd.isnull(row['Injury.Severity']) and row['Total.Fatal.Injuries'] == 0.0 else row['Injury.Severity']\n",
    "\n",
    "df['Injury.Severity'] = df.apply(impute_injury_severity, axis=1)\n",
    "#imputing Non-fatal for rows that are null in injury severity but are 0 in total fatal injuries"
   ]
  },
  {
   "cell_type": "code",
   "execution_count": 17,
   "metadata": {},
   "outputs": [],
   "source": [
    "unavailable_and_null = df[(df['Injury.Severity'] == 'Unavailable') & (df['Total.Fatal.Injuries'].isnull())]\n",
    "df.drop(unavailable_and_null.index, inplace=True)\n",
    "#dropping rows that are unavailable for injury severity and null for total fatal injuries"
   ]
  },
  {
   "cell_type": "code",
   "execution_count": 18,
   "metadata": {},
   "outputs": [
    {
     "data": {
      "text/plain": [
       "Incident    640\n",
       "Name: Injury.Severity, dtype: int64"
      ]
     },
     "execution_count": 18,
     "metadata": {},
     "output_type": "execute_result"
    }
   ],
   "source": [
    "df[df['Total.Fatal.Injuries'].isnull()]['Injury.Severity'].value_counts()\n",
    "#double checking the value counts in injury severity for rows that are null in total fatal injuries"
   ]
  },
  {
   "cell_type": "code",
   "execution_count": 19,
   "metadata": {},
   "outputs": [],
   "source": [
    "df = df[~((df['Injury.Severity'] == 'Incident') & df['Total.Fatal.Injuries'].isnull())]\n",
    "#dropping the last 640 rows that are null in total fatal injuries "
   ]
  },
  {
   "cell_type": "code",
   "execution_count": null,
   "metadata": {},
   "outputs": [],
   "source": [
    "#finished cleaning total fatal injuries and injury severity"
   ]
  },
  {
   "cell_type": "code",
   "execution_count": 20,
   "metadata": {},
   "outputs": [
    {
     "data": {
      "text/plain": [
       "Event.Id                      0\n",
       "Investigation.Type            0\n",
       "Accident.Number               0\n",
       "Event.Date                    0\n",
       "Location                     44\n",
       "Country                     222\n",
       "Injury.Severity               0\n",
       "Aircraft.damage            2897\n",
       "Aircraft.Category         55960\n",
       "Registration.Number         991\n",
       "Make                          0\n",
       "Model                         0\n",
       "Amateur.Built                46\n",
       "Number.of.Engines          5702\n",
       "Engine.Type                6754\n",
       "Purpose.of.flight          5684\n",
       "Total.Fatal.Injuries          0\n",
       "Total.Serious.Injuries    11769\n",
       "Total.Minor.Injuries      11215\n",
       "Total.Uninjured            5676\n",
       "Weather.Condition          4248\n",
       "Broad.phase.of.flight     26760\n",
       "Report.Status              6335\n",
       "Publication.Date          15143\n",
       "dtype: int64"
      ]
     },
     "execution_count": 20,
     "metadata": {},
     "output_type": "execute_result"
    }
   ],
   "source": [
    "df.isnull().sum()\n",
    "#checking again for total null entries per column"
   ]
  },
  {
   "cell_type": "code",
   "execution_count": null,
   "metadata": {},
   "outputs": [],
   "source": [
    "#cleaning aircraft damage"
   ]
  },
  {
   "cell_type": "code",
   "execution_count": 21,
   "metadata": {},
   "outputs": [
    {
     "data": {
      "text/plain": [
       "Substantial    64027\n",
       "Destroyed      18570\n",
       "Minor           2440\n",
       "Unknown          119\n",
       "Name: Aircraft.damage, dtype: int64"
      ]
     },
     "execution_count": 21,
     "metadata": {},
     "output_type": "execute_result"
    }
   ],
   "source": [
    "df[\"Aircraft.damage\"].value_counts()\n",
    "#checking value counts for aircraft damage"
   ]
  },
  {
   "cell_type": "code",
   "execution_count": 22,
   "metadata": {},
   "outputs": [],
   "source": [
    "df = df[df['Aircraft.damage'] != 'Unknown']\n",
    "#removing rows where aircraft damage is unknown"
   ]
  },
  {
   "cell_type": "code",
   "execution_count": 23,
   "metadata": {},
   "outputs": [],
   "source": [
    "df.dropna(subset=['Aircraft.damage'], inplace=True)\n",
    "#dropping rows where aircraft damage is null"
   ]
  },
  {
   "cell_type": "code",
   "execution_count": null,
   "metadata": {},
   "outputs": [],
   "source": [
    "#finished cleaning aircraft damage"
   ]
  },
  {
   "cell_type": "code",
   "execution_count": 24,
   "metadata": {},
   "outputs": [
    {
     "data": {
      "text/plain": [
       "Event.Id                      0\n",
       "Investigation.Type            0\n",
       "Accident.Number               0\n",
       "Event.Date                    0\n",
       "Location                     42\n",
       "Country                     208\n",
       "Injury.Severity               0\n",
       "Aircraft.damage               0\n",
       "Aircraft.Category         54472\n",
       "Registration.Number         950\n",
       "Make                          0\n",
       "Model                         0\n",
       "Amateur.Built                46\n",
       "Number.of.Engines          4633\n",
       "Engine.Type                5568\n",
       "Purpose.of.flight          4210\n",
       "Total.Fatal.Injuries          0\n",
       "Total.Serious.Injuries    11719\n",
       "Total.Minor.Injuries      11021\n",
       "Total.Uninjured            5651\n",
       "Weather.Condition          3126\n",
       "Broad.phase.of.flight     25048\n",
       "Report.Status              5189\n",
       "Publication.Date          14507\n",
       "dtype: int64"
      ]
     },
     "execution_count": 24,
     "metadata": {},
     "output_type": "execute_result"
    }
   ],
   "source": [
    "df.isnull().sum()\n",
    "#checking again for total null values per column"
   ]
  },
  {
   "cell_type": "code",
   "execution_count": null,
   "metadata": {},
   "outputs": [],
   "source": [
    "#cleaning and imputing number of engines"
   ]
  },
  {
   "cell_type": "code",
   "execution_count": 25,
   "metadata": {},
   "outputs": [
    {
     "data": {
      "text/plain": [
       "1.0    69047\n",
       "2.0     9686\n",
       "0.0     1060\n",
       "3.0      308\n",
       "4.0      300\n",
       "8.0        2\n",
       "6.0        1\n",
       "Name: Number.of.Engines, dtype: int64"
      ]
     },
     "execution_count": 25,
     "metadata": {},
     "output_type": "execute_result"
    }
   ],
   "source": [
    "df[\"Number.of.Engines\"].value_counts()\n",
    "#checking the value counts for number of engines"
   ]
  },
  {
   "cell_type": "code",
   "execution_count": 26,
   "metadata": {},
   "outputs": [],
   "source": [
    "#iterating through rows of df where number of engines is null, checking if there is a unique engine number associated with this make/model combo and if so imputing it\n",
    "for index, row in df[df['Number.of.Engines'].isnull()].iterrows():\n",
    "    same_make_model = df[(df['Make'] == row['Make']) & (df['Model'] == row['Model'])]\n",
    "    unique_engines = same_make_model['Number.of.Engines'].dropna().unique()\n",
    "    if len(unique_engines) == 1: \n",
    "        df.at[index, 'Number.of.Engines'] = unique_engines[0]"
   ]
  },
  {
   "cell_type": "code",
   "execution_count": 27,
   "metadata": {},
   "outputs": [
    {
     "data": {
      "text/plain": [
       "Event.Id                      0\n",
       "Investigation.Type            0\n",
       "Accident.Number               0\n",
       "Event.Date                    0\n",
       "Location                     42\n",
       "Country                     208\n",
       "Injury.Severity               0\n",
       "Aircraft.damage               0\n",
       "Aircraft.Category         54472\n",
       "Registration.Number         950\n",
       "Make                          0\n",
       "Model                         0\n",
       "Amateur.Built                46\n",
       "Number.of.Engines          1839\n",
       "Engine.Type                5568\n",
       "Purpose.of.flight          4210\n",
       "Total.Fatal.Injuries          0\n",
       "Total.Serious.Injuries    11719\n",
       "Total.Minor.Injuries      11021\n",
       "Total.Uninjured            5651\n",
       "Weather.Condition          3126\n",
       "Broad.phase.of.flight     25048\n",
       "Report.Status              5189\n",
       "Publication.Date          14507\n",
       "dtype: int64"
      ]
     },
     "execution_count": 27,
     "metadata": {},
     "output_type": "execute_result"
    }
   ],
   "source": [
    "df.isnull().sum()\n",
    "#checking again for total null entries per column"
   ]
  },
  {
   "cell_type": "code",
   "execution_count": 28,
   "metadata": {},
   "outputs": [],
   "source": [
    "# Dropping rows where 'Number.of.Engines' is null\n",
    "df = df.dropna(subset=['Number.of.Engines'])"
   ]
  },
  {
   "cell_type": "code",
   "execution_count": null,
   "metadata": {},
   "outputs": [],
   "source": [
    "#finished cleaning number of engines"
   ]
  },
  {
   "cell_type": "code",
   "execution_count": 29,
   "metadata": {},
   "outputs": [
    {
     "data": {
      "text/plain": [
       "Event.Id                      0\n",
       "Investigation.Type            0\n",
       "Accident.Number               0\n",
       "Event.Date                    0\n",
       "Location                     35\n",
       "Country                     207\n",
       "Injury.Severity               0\n",
       "Aircraft.damage               0\n",
       "Aircraft.Category         53595\n",
       "Registration.Number         515\n",
       "Make                          0\n",
       "Model                         0\n",
       "Amateur.Built                33\n",
       "Number.of.Engines             0\n",
       "Engine.Type                4503\n",
       "Purpose.of.flight          3549\n",
       "Total.Fatal.Injuries          0\n",
       "Total.Serious.Injuries    11367\n",
       "Total.Minor.Injuries      10635\n",
       "Total.Uninjured            5338\n",
       "Weather.Condition          2519\n",
       "Broad.phase.of.flight     23540\n",
       "Report.Status              4594\n",
       "Publication.Date          14255\n",
       "dtype: int64"
      ]
     },
     "execution_count": 29,
     "metadata": {},
     "output_type": "execute_result"
    }
   ],
   "source": [
    "#checking for null entries per column again\n",
    "df.isnull().sum()"
   ]
  },
  {
   "cell_type": "code",
   "execution_count": null,
   "metadata": {},
   "outputs": [],
   "source": [
    "#cleaning and imputing engine type"
   ]
  },
  {
   "cell_type": "code",
   "execution_count": 30,
   "metadata": {},
   "outputs": [
    {
     "data": {
      "text/plain": [
       "Reciprocating      68900\n",
       "Turbo Shaft         3476\n",
       "Turbo Prop          3098\n",
       "Turbo Fan           1456\n",
       "Unknown             1223\n",
       "Turbo Jet            515\n",
       "None                  13\n",
       "Electric               8\n",
       "NONE                   2\n",
       "Hybrid Rocket          1\n",
       "LR                     1\n",
       "UNK                    1\n",
       "Geared Turbofan        1\n",
       "Name: Engine.Type, dtype: int64"
      ]
     },
     "execution_count": 30,
     "metadata": {},
     "output_type": "execute_result"
    }
   ],
   "source": [
    "df[\"Engine.Type\"].value_counts()\n",
    "#checking engine type value counts"
   ]
  },
  {
   "cell_type": "code",
   "execution_count": 31,
   "metadata": {},
   "outputs": [],
   "source": [
    "#checking for unique engine type of make/model combos when engine type is null and imputing it if there is only 1\n",
    "missing_engine_type = df[df['Engine.Type'].isnull()]\n",
    "\n",
    "for index, row in missing_engine_type.iterrows():\n",
    "    same_model = df[(df['Make'] == row['Make']) & (df['Model'] == row['Model']) & (~df['Engine.Type'].isnull())]\n",
    "\n",
    "    if len(same_model['Engine.Type'].unique()) == 1:\n",
    "        df.at[index, 'Engine.Type'] = same_model['Engine.Type'].iloc[0]"
   ]
  },
  {
   "cell_type": "code",
   "execution_count": 32,
   "metadata": {},
   "outputs": [
    {
     "data": {
      "text/plain": [
       "Event.Id                      0\n",
       "Investigation.Type            0\n",
       "Accident.Number               0\n",
       "Event.Date                    0\n",
       "Location                     35\n",
       "Country                     207\n",
       "Injury.Severity               0\n",
       "Aircraft.damage               0\n",
       "Aircraft.Category         53595\n",
       "Registration.Number         515\n",
       "Make                          0\n",
       "Model                         0\n",
       "Amateur.Built                33\n",
       "Number.of.Engines             0\n",
       "Engine.Type                1506\n",
       "Purpose.of.flight          3549\n",
       "Total.Fatal.Injuries          0\n",
       "Total.Serious.Injuries    11367\n",
       "Total.Minor.Injuries      10635\n",
       "Total.Uninjured            5338\n",
       "Weather.Condition          2519\n",
       "Broad.phase.of.flight     23540\n",
       "Report.Status              4594\n",
       "Publication.Date          14255\n",
       "dtype: int64"
      ]
     },
     "execution_count": 32,
     "metadata": {},
     "output_type": "execute_result"
    }
   ],
   "source": [
    "df.isnull().sum()\n",
    "#checking again for null values in each column"
   ]
  },
  {
   "cell_type": "code",
   "execution_count": 33,
   "metadata": {},
   "outputs": [],
   "source": [
    "#checking for unique engine type of makes when engine type is null and imputing it if there is only 1\n",
    "missing_engine_type = df[df['Engine.Type'].isnull()]\n",
    "\n",
    "for index, row in missing_engine_type.iterrows():\n",
    "    same_make = df[(df['Make'] == row['Make']) & (~df['Engine.Type'].isnull())]\n",
    "\n",
    "    if len(same_make['Engine.Type'].unique()) == 1:\n",
    "        df.at[index, 'Engine.Type'] = same_make['Engine.Type'].iloc[0]"
   ]
  },
  {
   "cell_type": "code",
   "execution_count": 34,
   "metadata": {},
   "outputs": [
    {
     "data": {
      "text/plain": [
       "Event.Id                      0\n",
       "Investigation.Type            0\n",
       "Accident.Number               0\n",
       "Event.Date                    0\n",
       "Location                     35\n",
       "Country                     207\n",
       "Injury.Severity               0\n",
       "Aircraft.damage               0\n",
       "Aircraft.Category         53595\n",
       "Registration.Number         515\n",
       "Make                          0\n",
       "Model                         0\n",
       "Amateur.Built                33\n",
       "Number.of.Engines             0\n",
       "Engine.Type                1246\n",
       "Purpose.of.flight          3549\n",
       "Total.Fatal.Injuries          0\n",
       "Total.Serious.Injuries    11367\n",
       "Total.Minor.Injuries      10635\n",
       "Total.Uninjured            5338\n",
       "Weather.Condition          2519\n",
       "Broad.phase.of.flight     23540\n",
       "Report.Status              4594\n",
       "Publication.Date          14255\n",
       "dtype: int64"
      ]
     },
     "execution_count": 34,
     "metadata": {},
     "output_type": "execute_result"
    }
   ],
   "source": [
    "df.isnull().sum()\n",
    "#checking again for null values in each column"
   ]
  },
  {
   "cell_type": "code",
   "execution_count": 35,
   "metadata": {},
   "outputs": [],
   "source": [
    "df.dropna(subset=['Engine.Type'], inplace=True)\n",
    "#dropping all rows that are still null for engine type"
   ]
  },
  {
   "cell_type": "code",
   "execution_count": null,
   "metadata": {},
   "outputs": [],
   "source": [
    "#finished cleaning and imputing engine type"
   ]
  },
  {
   "cell_type": "code",
   "execution_count": 36,
   "metadata": {},
   "outputs": [
    {
     "data": {
      "text/plain": [
       "Event.Id                      0\n",
       "Investigation.Type            0\n",
       "Accident.Number               0\n",
       "Event.Date                    0\n",
       "Location                     35\n",
       "Country                     207\n",
       "Injury.Severity               0\n",
       "Aircraft.damage               0\n",
       "Aircraft.Category         53373\n",
       "Registration.Number         349\n",
       "Make                          0\n",
       "Model                         0\n",
       "Amateur.Built                25\n",
       "Number.of.Engines             0\n",
       "Engine.Type                   0\n",
       "Purpose.of.flight          3234\n",
       "Total.Fatal.Injuries          0\n",
       "Total.Serious.Injuries    11146\n",
       "Total.Minor.Injuries      10382\n",
       "Total.Uninjured            5150\n",
       "Weather.Condition          2155\n",
       "Broad.phase.of.flight     22417\n",
       "Report.Status              3906\n",
       "Publication.Date          14087\n",
       "dtype: int64"
      ]
     },
     "execution_count": 36,
     "metadata": {},
     "output_type": "execute_result"
    }
   ],
   "source": [
    "df.isnull().sum()\n",
    "#checking again for null entries across columns"
   ]
  },
  {
   "cell_type": "code",
   "execution_count": 39,
   "metadata": {},
   "outputs": [
    {
     "name": "stdout",
     "output_type": "stream",
     "text": [
      "  Investigation.Type  Total.Fatal.Injuries\n",
      "0           Accident              0.500535\n",
      "1           Incident              0.001900\n"
     ]
    }
   ],
   "source": [
    "#grouping the data by investigation type and checking the avg total fatalities per type\n",
    "average_fatalities_by_type = df.groupby('Investigation.Type')['Total.Fatal.Injuries'].mean().reset_index()\n",
    "\n",
    "print(average_fatalities_by_type)"
   ]
  },
  {
   "cell_type": "code",
   "execution_count": 42,
   "metadata": {},
   "outputs": [
    {
     "name": "stdout",
     "output_type": "stream",
     "text": [
      "       Engine.Type  Damage_Severity\n",
      "1  Geared Turbofan         1.000000\n",
      "7        Turbo Fan         1.719486\n",
      "8        Turbo Jet         1.996198\n",
      "0         Electric         2.000000\n",
      "3               LR         2.000000\n"
     ]
    }
   ],
   "source": [
    "#Creating a numerical mapping of damage severity where minor = 1, substantial = 2, and destroyed = 3 and printing the mapping per engine type\n",
    "damage_severity_mapping = {'Minor': 1, 'Substantial': 2, 'Destroyed': 3}\n",
    "\n",
    "df['Damage_Severity'] = df['Aircraft.damage'].map(damage_severity_mapping)\n",
    "\n",
    "avg_damage_by_engine = df.groupby('Engine.Type')['Damage_Severity'].mean().reset_index().sort_values(by='Damage_Severity', ascending=True)\n",
    "print(avg_damage_by_engine.head())  \n"
   ]
  },
  {
   "cell_type": "code",
   "execution_count": 71,
   "metadata": {},
   "outputs": [
    {
     "data": {
      "text/plain": [
       "Reciprocating      71410\n",
       "Turbo Shaft         3762\n",
       "Turbo Prop          3335\n",
       "Turbo Fan           1897\n",
       "Turbo Jet            530\n",
       "Electric              11\n",
       "Hybrid Rocket          1\n",
       "Lr                     1\n",
       "Geared Turbofan        1\n",
       "Name: Engine.Type, dtype: int64"
      ]
     },
     "execution_count": 71,
     "metadata": {},
     "output_type": "execute_result"
    }
   ],
   "source": [
    "df[\"Engine.Type\"].value_counts()\n",
    "#checking engine type value counts"
   ]
  },
  {
   "cell_type": "code",
   "execution_count": null,
   "metadata": {},
   "outputs": [],
   "source": [
    "#realizing i forgot certain things when cleaning engine type and going back to do it as well as imputing"
   ]
  },
  {
   "cell_type": "code",
   "execution_count": 72,
   "metadata": {},
   "outputs": [],
   "source": [
    "df['Engine.Type'] = df['Engine.Type'].str.title().str.strip()\n",
    "#cleaning engine type by formatting them the same, realizing I forgot to do it earlier"
   ]
  },
  {
   "cell_type": "code",
   "execution_count": 73,
   "metadata": {},
   "outputs": [],
   "source": [
    "#imputing correct engine types for ambiguous engine type entries if they are one of a kind for that model, if a unique engine type is not found row is deleted\n",
    "ambiguous_engine_types = ['None', 'Unknown', 'Unk']\n",
    "\n",
    "ambiguous_df = df[df['Engine.Type'].isin(ambiguous_engine_types)]\n",
    "\n",
    "imputable_models = df[~df['Engine.Type'].isin(ambiguous_engine_types)].groupby('Model')['Engine.Type'].nunique()\n",
    "imputable_models = imputable_models[imputable_models == 1].index.tolist()\n",
    "\n",
    "for model in imputable_models:\n",
    "    engine_type = df[(df['Model'] == model) & (~df['Engine.Type'].isin(ambiguous_engine_types))]['Engine.Type'].iloc[0]\n",
    "    df.loc[(df['Model'] == model) & (df['Engine.Type'].isin(ambiguous_engine_types)), 'Engine.Type'] = engine_type\n",
    "\n",
    "df = df[~df['Engine.Type'].isin(ambiguous_engine_types)]\n"
   ]
  },
  {
   "cell_type": "code",
   "execution_count": 74,
   "metadata": {},
   "outputs": [
    {
     "data": {
      "text/plain": [
       "Reciprocating      71410\n",
       "Turbo Shaft         3762\n",
       "Turbo Prop          3335\n",
       "Turbo Fan           1897\n",
       "Turbo Jet            530\n",
       "Electric              11\n",
       "Hybrid Rocket          1\n",
       "Lr                     1\n",
       "Geared Turbofan        1\n",
       "Name: Engine.Type, dtype: int64"
      ]
     },
     "execution_count": 74,
     "metadata": {},
     "output_type": "execute_result"
    }
   ],
   "source": [
    "#checking value counts for engine types\n",
    "df[\"Engine.Type\"].value_counts()"
   ]
  },
  {
   "cell_type": "code",
   "execution_count": null,
   "metadata": {},
   "outputs": [],
   "source": [
    "#beginning analysis by ranking engine number, engine type, and specific models via a composite safety score derived from the combination of avg fatalities and avg damage severity"
   ]
  },
  {
   "cell_type": "code",
   "execution_count": 95,
   "metadata": {},
   "outputs": [
    {
     "name": "stdout",
     "output_type": "stream",
     "text": [
      "     Engine.Type  Avg_Fatality  Avg_Damage_Severity  Composite_Safety_Score\n",
      "0       Electric      0.090909             2.000000                1.045455\n",
      "1  Reciprocating      0.355945             2.199706                1.277825\n",
      "5    Turbo Shaft      0.532430             2.232323                1.382376\n",
      "4     Turbo Prop      0.906147             2.182009                1.544078\n",
      "3      Turbo Jet      1.545283             2.001887                1.773585\n"
     ]
    }
   ],
   "source": [
    "#creating composite safety score for engine types occuring atleast 10 times based on the mean of avg fatality and avg damage severity and displaying safest engine types\n",
    "engine_type_counts = df['Engine.Type'].value_counts()\n",
    "engine_types_with_at_least_10 = engine_type_counts[engine_type_counts >= 10].index\n",
    "\n",
    "engine_type_data = df[df['Engine.Type'].isin(engine_types_with_at_least_10)]\n",
    "engine_type_safety_scores = engine_type_data.groupby('Engine.Type').agg(\n",
    "    Avg_Fatality=('Total.Fatal.Injuries', 'mean'),\n",
    "    Avg_Damage_Severity=('Damage_Severity', 'mean')\n",
    ").reset_index()\n",
    "\n",
    "engine_type_safety_scores['Composite_Safety_Score'] = (engine_type_safety_scores['Avg_Fatality'] + engine_type_safety_scores['Avg_Damage_Severity']) / 2\n",
    "\n",
    "safest_engine_types = engine_type_safety_scores.sort_values(by='Composite_Safety_Score')\n",
    "\n",
    "print(safest_engine_types.head())\n"
   ]
  },
  {
   "cell_type": "code",
   "execution_count": 96,
   "metadata": {},
   "outputs": [
    {
     "name": "stdout",
     "output_type": "stream",
     "text": [
      "   Number.of.Engines  Avg_Fatality  Avg_Damage_Severity  \\\n",
      "1                1.0      0.330055             2.193212   \n",
      "0                0.0      0.456929             2.123596   \n",
      "2                2.0      1.277341             2.190106   \n",
      "3                3.0      2.722222             1.524691   \n",
      "4                4.0      5.711656             1.723926   \n",
      "\n",
      "   Composite_Safety_Score  \n",
      "1                1.261634  \n",
      "0                1.290262  \n",
      "2                1.733723  \n",
      "3                2.123457  \n",
      "4                3.717791  \n"
     ]
    }
   ],
   "source": [
    "#creating composite safety score for engine numbers occuring atleast 10 times based on the mean of avg fatality and avg damage severity and displaying safest engine numbers\n",
    "engine_number_counts = df['Number.of.Engines'].value_counts()\n",
    "engine_numbers_with_at_least_10 = engine_number_counts[engine_number_counts >= 10].index\n",
    "\n",
    "engine_number_data = df[df['Number.of.Engines'].isin(engine_numbers_with_at_least_10)]\n",
    "engine_number_safety_scores = engine_number_data.groupby('Number.of.Engines').agg(\n",
    "    Avg_Fatality=('Total.Fatal.Injuries', 'mean'),\n",
    "    Avg_Damage_Severity=('Damage_Severity', 'mean')\n",
    ").reset_index()\n",
    "\n",
    "engine_number_safety_scores['Composite_Safety_Score'] = (engine_number_safety_scores['Avg_Fatality'] + engine_number_safety_scores['Avg_Damage_Severity']) / 2\n",
    "\n",
    "safest_engine_numbers = engine_number_safety_scores.sort_values(by='Composite_Safety_Score')\n",
    "\n",
    "print(safest_engine_numbers.head())\n"
   ]
  },
  {
   "cell_type": "code",
   "execution_count": 94,
   "metadata": {},
   "outputs": [
    {
     "name": "stdout",
     "output_type": "stream",
     "text": [
      "       Model  Avg_Fatality  Avg_Damage_Severity  Composite_Safety_Score\n",
      "316  727-223      0.000000             1.076923                0.538462\n",
      "330      787      0.000000             1.200000                0.600000\n",
      "536  DC-9-51      0.055556             1.166667                0.611111\n",
      "687    MD-80      0.000000             1.300000                0.650000\n",
      "315  727-200      0.000000             1.300000                0.650000\n"
     ]
    }
   ],
   "source": [
    "#creating composite safety score for models occuring atleast 10 times based on the mean of avg fatality and avg damage severity and displaying safest models\n",
    "model_counts = df['Model'].value_counts()\n",
    "models_with_at_least_10 = model_counts[model_counts >= 10].index\n",
    "\n",
    "model_data = df[df['Model'].isin(models_with_at_least_10)]\n",
    "model_safety_scores = model_data.groupby('Model').agg(\n",
    "    Avg_Fatality=('Total.Fatal.Injuries', 'mean'),\n",
    "    Avg_Damage_Severity=('Damage_Severity', 'mean')\n",
    ").reset_index()\n",
    "\n",
    "model_safety_scores['Composite_Safety_Score'] = (model_safety_scores['Avg_Fatality'] + model_safety_scores['Avg_Damage_Severity']) / 2\n",
    "\n",
    "safest_models = model_safety_scores.sort_values(by='Composite_Safety_Score')\n",
    "\n",
    "print(safest_models.head(5))\n"
   ]
  },
  {
   "cell_type": "code",
   "execution_count": 97,
   "metadata": {},
   "outputs": [],
   "source": [
    "#saving the df with the safest models to a CSV file\n",
    "safest_models.to_csv('safest_models.csv', index=False)\n",
    "\n",
    "#saving the df with the safest engine types to a CSV file\n",
    "safest_engine_types.to_csv('safest_engine_types.csv', index=False)\n",
    "\n",
    "#saving the df with the safest engine numbers to a CSV file\n",
    "safest_engine_numbers.to_csv('safest_engine_numbers.csv', index=False)\n"
   ]
  },
  {
   "cell_type": "code",
   "execution_count": 98,
   "metadata": {},
   "outputs": [],
   "source": [
    "#saving the top 5 entries of the df with the safest models to a CSV file\n",
    "safest_models.head(5).to_csv('safest_models_top_5.csv', index=False)"
   ]
  },
  {
   "cell_type": "code",
   "execution_count": null,
   "metadata": {},
   "outputs": [],
   "source": [
    "#My analysis has concluded that the aforementioned engine numbers, engine types, and models are the safest investment option for\n",
    "#an organization looking to enter into the aircraft industry. This analysis is based upon the idea that investment safety is \n",
    "#based primarily upon minimized fatal injuries as well as minimized damage to the aircraft. By using these results to inform \n",
    "#decisions regarding which airplanes to purchase, individuals seeking to enter into the airspace industry can reduce the risk of\n",
    "#incidents in which their passenegers are fatally injured or their planes are irrevocably damaged.\n"
   ]
  }
 ],
 "metadata": {
  "kernelspec": {
   "display_name": "Python (learn-env)",
   "language": "python",
   "name": "learn-env"
  },
  "language_info": {
   "codemirror_mode": {
    "name": "ipython",
    "version": 3
   },
   "file_extension": ".py",
   "mimetype": "text/x-python",
   "name": "python",
   "nbconvert_exporter": "python",
   "pygments_lexer": "ipython3",
   "version": "3.8.5"
  }
 },
 "nbformat": 4,
 "nbformat_minor": 4
}
