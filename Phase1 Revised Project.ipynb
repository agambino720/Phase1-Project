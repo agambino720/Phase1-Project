{
 "cells": [
  {
   "cell_type": "markdown",
   "metadata": {},
   "source": [
    "# Aircraft Safety Analysis Project\n",
    "\n",
    "## Project Overview\n",
    "\n",
    "This project aims to analyze aircraft safety by evaluating the risk associated with different aircraft models, engine types, and the number of engines. Utilizing historical incident data taken from [Kaggle.com](https://www.kaggle.com/), I calculated composite safety scores for each of the aforementioned categories to identify which configurations are deemed safest based on my analysis. \n",
    "\n",
    "The goal of this analysis is to assist those seeking to enter the aircraft industry in making informed decisions when purchasing the safest aircraft available. This dataset is particularly suitable for this use case as it encompasses extensive information regarding the aircraft configurations present in aviation accidents and incidents not only within the United States and its territories but also in international waters. \n",
    "\n",
    "**Dataset Overview:**\n",
    "- **Entries**: Over 90,000 records\n",
    "- **Coverage**: Aviation accidents and incidents within the United States, its territories, and international waters.\n",
    "- **Columns**: 31 columns detailing various aspects of each incident or accident.\n",
    "\n",
    "The breadth and depth of the data ensure a comprehensive analysis, shedding light on the important factors that contribute to aircraft safety and paving the way for informed decision-making in purchasing aircraft.\n"
   ]
  },
  {
   "cell_type": "code",
   "execution_count": 66,
   "metadata": {},
   "outputs": [
    {
     "name": "stderr",
     "output_type": "stream",
     "text": [
      "C:\\Users\\agamb\\anaconda3\\envs\\learn-env\\lib\\site-packages\\IPython\\core\\interactiveshell.py:3145: DtypeWarning: Columns (6,7,28) have mixed types.Specify dtype option on import or set low_memory=False.\n",
      "  has_raised = await self.run_ast_nodes(code_ast.body, cell_name,\n"
     ]
    },
    {
     "data": {
      "text/html": [
       "<div>\n",
       "<style scoped>\n",
       "    .dataframe tbody tr th:only-of-type {\n",
       "        vertical-align: middle;\n",
       "    }\n",
       "\n",
       "    .dataframe tbody tr th {\n",
       "        vertical-align: top;\n",
       "    }\n",
       "\n",
       "    .dataframe thead th {\n",
       "        text-align: right;\n",
       "    }\n",
       "</style>\n",
       "<table border=\"1\" class=\"dataframe\">\n",
       "  <thead>\n",
       "    <tr style=\"text-align: right;\">\n",
       "      <th></th>\n",
       "      <th>Event.Id</th>\n",
       "      <th>Investigation.Type</th>\n",
       "      <th>Accident.Number</th>\n",
       "      <th>Event.Date</th>\n",
       "      <th>Location</th>\n",
       "      <th>Country</th>\n",
       "      <th>Latitude</th>\n",
       "      <th>Longitude</th>\n",
       "      <th>Airport.Code</th>\n",
       "      <th>Airport.Name</th>\n",
       "      <th>...</th>\n",
       "      <th>Purpose.of.flight</th>\n",
       "      <th>Air.carrier</th>\n",
       "      <th>Total.Fatal.Injuries</th>\n",
       "      <th>Total.Serious.Injuries</th>\n",
       "      <th>Total.Minor.Injuries</th>\n",
       "      <th>Total.Uninjured</th>\n",
       "      <th>Weather.Condition</th>\n",
       "      <th>Broad.phase.of.flight</th>\n",
       "      <th>Report.Status</th>\n",
       "      <th>Publication.Date</th>\n",
       "    </tr>\n",
       "  </thead>\n",
       "  <tbody>\n",
       "    <tr>\n",
       "      <th>0</th>\n",
       "      <td>20001218X45444</td>\n",
       "      <td>Accident</td>\n",
       "      <td>SEA87LA080</td>\n",
       "      <td>1948-10-24</td>\n",
       "      <td>MOOSE CREEK, ID</td>\n",
       "      <td>United States</td>\n",
       "      <td>NaN</td>\n",
       "      <td>NaN</td>\n",
       "      <td>NaN</td>\n",
       "      <td>NaN</td>\n",
       "      <td>...</td>\n",
       "      <td>Personal</td>\n",
       "      <td>NaN</td>\n",
       "      <td>2.0</td>\n",
       "      <td>0.0</td>\n",
       "      <td>0.0</td>\n",
       "      <td>0.0</td>\n",
       "      <td>UNK</td>\n",
       "      <td>Cruise</td>\n",
       "      <td>Probable Cause</td>\n",
       "      <td>NaN</td>\n",
       "    </tr>\n",
       "    <tr>\n",
       "      <th>1</th>\n",
       "      <td>20001218X45447</td>\n",
       "      <td>Accident</td>\n",
       "      <td>LAX94LA336</td>\n",
       "      <td>1962-07-19</td>\n",
       "      <td>BRIDGEPORT, CA</td>\n",
       "      <td>United States</td>\n",
       "      <td>NaN</td>\n",
       "      <td>NaN</td>\n",
       "      <td>NaN</td>\n",
       "      <td>NaN</td>\n",
       "      <td>...</td>\n",
       "      <td>Personal</td>\n",
       "      <td>NaN</td>\n",
       "      <td>4.0</td>\n",
       "      <td>0.0</td>\n",
       "      <td>0.0</td>\n",
       "      <td>0.0</td>\n",
       "      <td>UNK</td>\n",
       "      <td>Unknown</td>\n",
       "      <td>Probable Cause</td>\n",
       "      <td>19-09-1996</td>\n",
       "    </tr>\n",
       "    <tr>\n",
       "      <th>2</th>\n",
       "      <td>20061025X01555</td>\n",
       "      <td>Accident</td>\n",
       "      <td>NYC07LA005</td>\n",
       "      <td>1974-08-30</td>\n",
       "      <td>Saltville, VA</td>\n",
       "      <td>United States</td>\n",
       "      <td>36.9222</td>\n",
       "      <td>-81.8781</td>\n",
       "      <td>NaN</td>\n",
       "      <td>NaN</td>\n",
       "      <td>...</td>\n",
       "      <td>Personal</td>\n",
       "      <td>NaN</td>\n",
       "      <td>3.0</td>\n",
       "      <td>NaN</td>\n",
       "      <td>NaN</td>\n",
       "      <td>NaN</td>\n",
       "      <td>IMC</td>\n",
       "      <td>Cruise</td>\n",
       "      <td>Probable Cause</td>\n",
       "      <td>26-02-2007</td>\n",
       "    </tr>\n",
       "    <tr>\n",
       "      <th>3</th>\n",
       "      <td>20001218X45448</td>\n",
       "      <td>Accident</td>\n",
       "      <td>LAX96LA321</td>\n",
       "      <td>1977-06-19</td>\n",
       "      <td>EUREKA, CA</td>\n",
       "      <td>United States</td>\n",
       "      <td>NaN</td>\n",
       "      <td>NaN</td>\n",
       "      <td>NaN</td>\n",
       "      <td>NaN</td>\n",
       "      <td>...</td>\n",
       "      <td>Personal</td>\n",
       "      <td>NaN</td>\n",
       "      <td>2.0</td>\n",
       "      <td>0.0</td>\n",
       "      <td>0.0</td>\n",
       "      <td>0.0</td>\n",
       "      <td>IMC</td>\n",
       "      <td>Cruise</td>\n",
       "      <td>Probable Cause</td>\n",
       "      <td>12-09-2000</td>\n",
       "    </tr>\n",
       "    <tr>\n",
       "      <th>4</th>\n",
       "      <td>20041105X01764</td>\n",
       "      <td>Accident</td>\n",
       "      <td>CHI79FA064</td>\n",
       "      <td>1979-08-02</td>\n",
       "      <td>Canton, OH</td>\n",
       "      <td>United States</td>\n",
       "      <td>NaN</td>\n",
       "      <td>NaN</td>\n",
       "      <td>NaN</td>\n",
       "      <td>NaN</td>\n",
       "      <td>...</td>\n",
       "      <td>Personal</td>\n",
       "      <td>NaN</td>\n",
       "      <td>1.0</td>\n",
       "      <td>2.0</td>\n",
       "      <td>NaN</td>\n",
       "      <td>0.0</td>\n",
       "      <td>VMC</td>\n",
       "      <td>Approach</td>\n",
       "      <td>Probable Cause</td>\n",
       "      <td>16-04-1980</td>\n",
       "    </tr>\n",
       "  </tbody>\n",
       "</table>\n",
       "<p>5 rows × 31 columns</p>\n",
       "</div>"
      ],
      "text/plain": [
       "         Event.Id Investigation.Type Accident.Number  Event.Date  \\\n",
       "0  20001218X45444           Accident      SEA87LA080  1948-10-24   \n",
       "1  20001218X45447           Accident      LAX94LA336  1962-07-19   \n",
       "2  20061025X01555           Accident      NYC07LA005  1974-08-30   \n",
       "3  20001218X45448           Accident      LAX96LA321  1977-06-19   \n",
       "4  20041105X01764           Accident      CHI79FA064  1979-08-02   \n",
       "\n",
       "          Location        Country Latitude Longitude Airport.Code  \\\n",
       "0  MOOSE CREEK, ID  United States      NaN       NaN          NaN   \n",
       "1   BRIDGEPORT, CA  United States      NaN       NaN          NaN   \n",
       "2    Saltville, VA  United States  36.9222  -81.8781          NaN   \n",
       "3       EUREKA, CA  United States      NaN       NaN          NaN   \n",
       "4       Canton, OH  United States      NaN       NaN          NaN   \n",
       "\n",
       "  Airport.Name  ... Purpose.of.flight Air.carrier Total.Fatal.Injuries  \\\n",
       "0          NaN  ...          Personal         NaN                  2.0   \n",
       "1          NaN  ...          Personal         NaN                  4.0   \n",
       "2          NaN  ...          Personal         NaN                  3.0   \n",
       "3          NaN  ...          Personal         NaN                  2.0   \n",
       "4          NaN  ...          Personal         NaN                  1.0   \n",
       "\n",
       "  Total.Serious.Injuries Total.Minor.Injuries Total.Uninjured  \\\n",
       "0                    0.0                  0.0             0.0   \n",
       "1                    0.0                  0.0             0.0   \n",
       "2                    NaN                  NaN             NaN   \n",
       "3                    0.0                  0.0             0.0   \n",
       "4                    2.0                  NaN             0.0   \n",
       "\n",
       "  Weather.Condition  Broad.phase.of.flight   Report.Status Publication.Date  \n",
       "0               UNK                 Cruise  Probable Cause              NaN  \n",
       "1               UNK                Unknown  Probable Cause       19-09-1996  \n",
       "2               IMC                 Cruise  Probable Cause       26-02-2007  \n",
       "3               IMC                 Cruise  Probable Cause       12-09-2000  \n",
       "4               VMC               Approach  Probable Cause       16-04-1980  \n",
       "\n",
       "[5 rows x 31 columns]"
      ]
     },
     "execution_count": 66,
     "metadata": {},
     "output_type": "execute_result"
    }
   ],
   "source": [
    "import pandas as pd\n",
    "import numpy as np\n",
    "import seaborn as sns\n",
    "import matplotlib.pyplot as plt\n",
    "\n",
    "%matplotlib inline\n",
    "#importing pandas,numpy,seaborn,matplotlib\n",
    "\n",
    "path = \"C:\\\\Users\\\\agamb\\\\Documents\\\\Flatiron\\\\Phase1\\\\Aviation_Data.csv\"\n",
    "df = pd.read_csv(path)\n",
    "df.head()\n",
    "#importing the data using pandas and displaying the head"
   ]
  },
  {
   "cell_type": "code",
   "execution_count": 67,
   "metadata": {},
   "outputs": [
    {
     "name": "stdout",
     "output_type": "stream",
     "text": [
      "<class 'pandas.core.frame.DataFrame'>\n",
      "RangeIndex: 90348 entries, 0 to 90347\n",
      "Data columns (total 31 columns):\n",
      " #   Column                  Non-Null Count  Dtype  \n",
      "---  ------                  --------------  -----  \n",
      " 0   Event.Id                88889 non-null  object \n",
      " 1   Investigation.Type      90348 non-null  object \n",
      " 2   Accident.Number         88889 non-null  object \n",
      " 3   Event.Date              88889 non-null  object \n",
      " 4   Location                88837 non-null  object \n",
      " 5   Country                 88663 non-null  object \n",
      " 6   Latitude                34382 non-null  object \n",
      " 7   Longitude               34373 non-null  object \n",
      " 8   Airport.Code            50249 non-null  object \n",
      " 9   Airport.Name            52790 non-null  object \n",
      " 10  Injury.Severity         87889 non-null  object \n",
      " 11  Aircraft.damage         85695 non-null  object \n",
      " 12  Aircraft.Category       32287 non-null  object \n",
      " 13  Registration.Number     87572 non-null  object \n",
      " 14  Make                    88826 non-null  object \n",
      " 15  Model                   88797 non-null  object \n",
      " 16  Amateur.Built           88787 non-null  object \n",
      " 17  Number.of.Engines       82805 non-null  float64\n",
      " 18  Engine.Type             81812 non-null  object \n",
      " 19  FAR.Description         32023 non-null  object \n",
      " 20  Schedule                12582 non-null  object \n",
      " 21  Purpose.of.flight       82697 non-null  object \n",
      " 22  Air.carrier             16648 non-null  object \n",
      " 23  Total.Fatal.Injuries    77488 non-null  float64\n",
      " 24  Total.Serious.Injuries  76379 non-null  float64\n",
      " 25  Total.Minor.Injuries    76956 non-null  float64\n",
      " 26  Total.Uninjured         82977 non-null  float64\n",
      " 27  Weather.Condition       84397 non-null  object \n",
      " 28  Broad.phase.of.flight   61724 non-null  object \n",
      " 29  Report.Status           82508 non-null  object \n",
      " 30  Publication.Date        73659 non-null  object \n",
      "dtypes: float64(5), object(26)\n",
      "memory usage: 21.4+ MB\n"
     ]
    }
   ],
   "source": [
    "df.info()\n",
    "#investigating data's columns"
   ]
  },
  {
   "cell_type": "code",
   "execution_count": 68,
   "metadata": {},
   "outputs": [
    {
     "data": {
      "text/plain": [
       "Event.Id                   1459\n",
       "Investigation.Type            0\n",
       "Accident.Number            1459\n",
       "Event.Date                 1459\n",
       "Location                   1511\n",
       "Country                    1685\n",
       "Latitude                  55966\n",
       "Longitude                 55975\n",
       "Airport.Code              40099\n",
       "Airport.Name              37558\n",
       "Injury.Severity            2459\n",
       "Aircraft.damage            4653\n",
       "Aircraft.Category         58061\n",
       "Registration.Number        2776\n",
       "Make                       1522\n",
       "Model                      1551\n",
       "Amateur.Built              1561\n",
       "Number.of.Engines          7543\n",
       "Engine.Type                8536\n",
       "FAR.Description           58325\n",
       "Schedule                  77766\n",
       "Purpose.of.flight          7651\n",
       "Air.carrier               73700\n",
       "Total.Fatal.Injuries      12860\n",
       "Total.Serious.Injuries    13969\n",
       "Total.Minor.Injuries      13392\n",
       "Total.Uninjured            7371\n",
       "Weather.Condition          5951\n",
       "Broad.phase.of.flight     28624\n",
       "Report.Status              7840\n",
       "Publication.Date          16689\n",
       "dtype: int64"
      ]
     },
     "execution_count": 68,
     "metadata": {},
     "output_type": "execute_result"
    }
   ],
   "source": [
    "df.isnull().sum()\n",
    "#checking for total null rows per column"
   ]
  },
  {
   "cell_type": "markdown",
   "metadata": {},
   "source": [
    "Here, I am dropping all rows that are null for make or model since this information is crucial to my analysis. I am also dropping columns that are irrelevant to my analysis."
   ]
  },
  {
   "cell_type": "code",
   "execution_count": 70,
   "metadata": {},
   "outputs": [],
   "source": [
    "df = df.dropna(subset=['Make', 'Model'], how='any')\n",
    "#deleting rows that are null for either Make or Model"
   ]
  },
  {
   "cell_type": "code",
   "execution_count": 71,
   "metadata": {},
   "outputs": [],
   "source": [
    "df = df.drop(columns=['Latitude', 'Longitude', 'Airport.Code', 'Airport.Name', 'FAR.Description', 'Schedule', 'Air.carrier'])\n",
    "#dropping irrelevant columns"
   ]
  },
  {
   "cell_type": "markdown",
   "metadata": {},
   "source": [
    "I am now going to clean the columns that relate to fatalities. These include Total Fatal Injuries and Injury Severity. I will use both to fill in the null values in one another when possible and then drop rows where it is impossible to discern fatalities."
   ]
  },
  {
   "cell_type": "code",
   "execution_count": 72,
   "metadata": {},
   "outputs": [
    {
     "data": {
      "text/plain": [
       "Non-Fatal     67305\n",
       "Fatal(1)       6159\n",
       "Fatal          5248\n",
       "Fatal(2)       3703\n",
       "Incident       2214\n",
       "              ...  \n",
       "Fatal(37)         1\n",
       "Fatal(55)         1\n",
       "Fatal(141)        1\n",
       "Fatal(28)         1\n",
       "Fatal(143)        1\n",
       "Name: Injury.Severity, Length: 109, dtype: int64"
      ]
     },
     "execution_count": 72,
     "metadata": {},
     "output_type": "execute_result"
    }
   ],
   "source": [
    "df[\"Injury.Severity\"].value_counts()\n",
    "#checking the value counts of injury severity"
   ]
  },
  {
   "cell_type": "code",
   "execution_count": 74,
   "metadata": {},
   "outputs": [
    {
     "name": "stdout",
     "output_type": "stream",
     "text": [
      "0\n"
     ]
    }
   ],
   "source": [
    "df['Injury.Severity'] = df.apply(lambda row: 'Non-Fatal' if row['Injury.Severity'] == 'Fatal' and row['Total.Fatal.Injuries'] == 0 else row['Injury.Severity'], axis=1)\n",
    "print(df[(df['Injury.Severity'] == 'Fatal') & (df['Total.Fatal.Injuries'] == 0)].shape[0])\n",
    "#changing fatal entries to non-fatal if there are 0 total fatal injurues and checking that it worked"
   ]
  },
  {
   "cell_type": "code",
   "execution_count": 75,
   "metadata": {},
   "outputs": [],
   "source": [
    "def impute_fatalities(row):\n",
    "    if pd.isna(row['Total.Fatal.Injuries']) and 'Fatal(' in row['Injury.Severity']:\n",
    "        return int(row['Injury.Severity'].split('(')[1].split(')')[0])\n",
    "    return row['Total.Fatal.Injuries']\n",
    "\n",
    "df['Total.Fatal.Injuries'] = df.apply(impute_fatalities, axis=1)\n",
    "\n",
    "#imputing the number in parenthesis after Fatal from Injury Severity into Total Fatal Injuries when Total Fatal Injuries is null"
   ]
  },
  {
   "cell_type": "code",
   "execution_count": 76,
   "metadata": {},
   "outputs": [
    {
     "data": {
      "text/plain": [
       "11386"
      ]
     },
     "execution_count": 76,
     "metadata": {},
     "output_type": "execute_result"
    }
   ],
   "source": [
    "df[\"Total.Fatal.Injuries\"].isnull().sum()\n",
    "#checking how many null values remain in Total Fatal Injuries"
   ]
  },
  {
   "cell_type": "code",
   "execution_count": 77,
   "metadata": {},
   "outputs": [],
   "source": [
    "def impute_nonfatal(row):\n",
    "    if row['Injury.Severity'] == 'Non-Fatal' and pd.isna(row['Total.Fatal.Injuries']):\n",
    "        row['Total.Fatal.Injuries'] = 0\n",
    "    return row\n",
    "\n",
    "df = df.apply(impute_nonfatal, axis=1)\n",
    "#imputing Total Fatal Injuries with 0 when it is null and Injury Severity is non fatal"
   ]
  },
  {
   "cell_type": "code",
   "execution_count": 78,
   "metadata": {},
   "outputs": [
    {
     "data": {
      "text/plain": [
       "724"
      ]
     },
     "execution_count": 78,
     "metadata": {},
     "output_type": "execute_result"
    }
   ],
   "source": [
    "df[\"Total.Fatal.Injuries\"].isnull().sum()\n",
    "#checking how many null values remain in Total Fatal Injuries"
   ]
  },
  {
   "cell_type": "code",
   "execution_count": 79,
   "metadata": {},
   "outputs": [
    {
     "data": {
      "text/plain": [
       "Event.Id                      0\n",
       "Investigation.Type            0\n",
       "Accident.Number               0\n",
       "Event.Date                    0\n",
       "Location                     52\n",
       "Country                     225\n",
       "Injury.Severity             979\n",
       "Aircraft.damage            3172\n",
       "Aircraft.Category         56532\n",
       "Registration.Number        1275\n",
       "Make                          0\n",
       "Model                         0\n",
       "Amateur.Built                99\n",
       "Number.of.Engines          6023\n",
       "Engine.Type                7006\n",
       "Purpose.of.flight          6138\n",
       "Total.Fatal.Injuries        724\n",
       "Total.Serious.Injuries    12490\n",
       "Total.Minor.Injuries      11914\n",
       "Total.Uninjured            5897\n",
       "Weather.Condition          4439\n",
       "Broad.phase.of.flight     27094\n",
       "Report.Status              6335\n",
       "Publication.Date          15224\n",
       "dtype: int64"
      ]
     },
     "execution_count": 79,
     "metadata": {},
     "output_type": "execute_result"
    }
   ],
   "source": [
    "df.isnull().sum()\n",
    "#checking how many null values remain per column"
   ]
  },
  {
   "cell_type": "code",
   "execution_count": 80,
   "metadata": {},
   "outputs": [
    {
     "data": {
      "text/plain": [
       "Incident       640\n",
       "Unavailable     84\n",
       "Name: Injury.Severity, dtype: int64"
      ]
     },
     "execution_count": 80,
     "metadata": {},
     "output_type": "execute_result"
    }
   ],
   "source": [
    "df[df['Total.Fatal.Injuries'].isnull()]['Injury.Severity'].value_counts()\n",
    "#checking the value counts in injury severity for rows that are null in total fatal injuries"
   ]
  },
  {
   "cell_type": "code",
   "execution_count": 81,
   "metadata": {},
   "outputs": [
    {
     "data": {
      "text/plain": [
       "NaN    84\n",
       "0.0    11\n",
       "Name: Total.Fatal.Injuries, dtype: int64"
      ]
     },
     "execution_count": 81,
     "metadata": {},
     "output_type": "execute_result"
    }
   ],
   "source": [
    "df[df['Injury.Severity'] == 'Unavailable']['Total.Fatal.Injuries'].value_counts(dropna=False)\n",
    "#checking the value counts for total fatal injuries in rows where injury severity is unavilaible  "
   ]
  },
  {
   "cell_type": "code",
   "execution_count": 82,
   "metadata": {},
   "outputs": [
    {
     "data": {
      "text/plain": [
       "0.0    979\n",
       "Name: Total.Fatal.Injuries, dtype: int64"
      ]
     },
     "execution_count": 82,
     "metadata": {},
     "output_type": "execute_result"
    }
   ],
   "source": [
    "df[df['Injury.Severity'].isnull()]['Total.Fatal.Injuries'].value_counts()\n",
    "#checking value counts in total fatal injuries for rows that are null in injury severity"
   ]
  },
  {
   "cell_type": "code",
   "execution_count": 83,
   "metadata": {},
   "outputs": [],
   "source": [
    "def impute_injury_severity(row):\n",
    "    return 'Non-Fatal' if pd.isnull(row['Injury.Severity']) and row['Total.Fatal.Injuries'] == 0.0 else row['Injury.Severity']\n",
    "\n",
    "df['Injury.Severity'] = df.apply(impute_injury_severity, axis=1)\n",
    "#imputing Non-fatal for rows that are null in injury severity but are 0 in total fatal injuries"
   ]
  },
  {
   "cell_type": "code",
   "execution_count": 84,
   "metadata": {},
   "outputs": [],
   "source": [
    "unavailable_and_null = df[(df['Injury.Severity'] == 'Unavailable') & (df['Total.Fatal.Injuries'].isnull())]\n",
    "df.drop(unavailable_and_null.index, inplace=True)\n",
    "#dropping rows that are unavailable for injury severity and null for total fatal injuries"
   ]
  },
  {
   "cell_type": "code",
   "execution_count": 85,
   "metadata": {},
   "outputs": [
    {
     "data": {
      "text/plain": [
       "Incident    640\n",
       "Name: Injury.Severity, dtype: int64"
      ]
     },
     "execution_count": 85,
     "metadata": {},
     "output_type": "execute_result"
    }
   ],
   "source": [
    "df[df['Total.Fatal.Injuries'].isnull()]['Injury.Severity'].value_counts()\n",
    "#double checking the value counts in injury severity for rows that are null in total fatal injuries"
   ]
  },
  {
   "cell_type": "code",
   "execution_count": 86,
   "metadata": {},
   "outputs": [],
   "source": [
    "df = df[~((df['Injury.Severity'] == 'Incident') & df['Total.Fatal.Injuries'].isnull())]\n",
    "#dropping the last 640 rows that are null in total fatal injuries "
   ]
  },
  {
   "cell_type": "markdown",
   "metadata": {},
   "source": [
    "Here, I have finished cleaning total fatal injuries and injury severity and deleted ros from which this information could not be discerned."
   ]
  },
  {
   "cell_type": "code",
   "execution_count": 88,
   "metadata": {},
   "outputs": [
    {
     "data": {
      "text/plain": [
       "Event.Id                      0\n",
       "Investigation.Type            0\n",
       "Accident.Number               0\n",
       "Event.Date                    0\n",
       "Location                     44\n",
       "Country                     222\n",
       "Injury.Severity               0\n",
       "Aircraft.damage            2897\n",
       "Aircraft.Category         55960\n",
       "Registration.Number         991\n",
       "Make                          0\n",
       "Model                         0\n",
       "Amateur.Built                46\n",
       "Number.of.Engines          5702\n",
       "Engine.Type                6754\n",
       "Purpose.of.flight          5684\n",
       "Total.Fatal.Injuries          0\n",
       "Total.Serious.Injuries    11769\n",
       "Total.Minor.Injuries      11215\n",
       "Total.Uninjured            5676\n",
       "Weather.Condition          4248\n",
       "Broad.phase.of.flight     26760\n",
       "Report.Status              6335\n",
       "Publication.Date          15143\n",
       "dtype: int64"
      ]
     },
     "execution_count": 88,
     "metadata": {},
     "output_type": "execute_result"
    }
   ],
   "source": [
    "df.isnull().sum()\n",
    "#checking again for total null entries per column"
   ]
  },
  {
   "cell_type": "markdown",
   "metadata": {},
   "source": [
    "I will now be cleaning the aircraft damage column."
   ]
  },
  {
   "cell_type": "code",
   "execution_count": 90,
   "metadata": {},
   "outputs": [
    {
     "data": {
      "text/plain": [
       "Substantial    64027\n",
       "Destroyed      18570\n",
       "Minor           2440\n",
       "Unknown          119\n",
       "Name: Aircraft.damage, dtype: int64"
      ]
     },
     "execution_count": 90,
     "metadata": {},
     "output_type": "execute_result"
    }
   ],
   "source": [
    "df[\"Aircraft.damage\"].value_counts()\n",
    "#checking value counts for aircraft damage"
   ]
  },
  {
   "cell_type": "code",
   "execution_count": 91,
   "metadata": {},
   "outputs": [],
   "source": [
    "df = df[df['Aircraft.damage'] != 'Unknown']\n",
    "#removing rows where aircraft damage is unknown"
   ]
  },
  {
   "cell_type": "code",
   "execution_count": 92,
   "metadata": {},
   "outputs": [],
   "source": [
    "df.dropna(subset=['Aircraft.damage'], inplace=True)\n",
    "#dropping rows where aircraft damage is null"
   ]
  },
  {
   "cell_type": "code",
   "execution_count": 94,
   "metadata": {},
   "outputs": [
    {
     "data": {
      "text/plain": [
       "Event.Id                      0\n",
       "Investigation.Type            0\n",
       "Accident.Number               0\n",
       "Event.Date                    0\n",
       "Location                     42\n",
       "Country                     208\n",
       "Injury.Severity               0\n",
       "Aircraft.damage               0\n",
       "Aircraft.Category         54472\n",
       "Registration.Number         950\n",
       "Make                          0\n",
       "Model                         0\n",
       "Amateur.Built                46\n",
       "Number.of.Engines          4633\n",
       "Engine.Type                5568\n",
       "Purpose.of.flight          4210\n",
       "Total.Fatal.Injuries          0\n",
       "Total.Serious.Injuries    11719\n",
       "Total.Minor.Injuries      11021\n",
       "Total.Uninjured            5651\n",
       "Weather.Condition          3126\n",
       "Broad.phase.of.flight     25048\n",
       "Report.Status              5189\n",
       "Publication.Date          14507\n",
       "dtype: int64"
      ]
     },
     "execution_count": 94,
     "metadata": {},
     "output_type": "execute_result"
    }
   ],
   "source": [
    "df.isnull().sum()\n",
    "#checking again for total null values per column"
   ]
  },
  {
   "cell_type": "markdown",
   "metadata": {},
   "source": [
    "Here, I am cleaning and imputing the number of engines."
   ]
  },
  {
   "cell_type": "code",
   "execution_count": 96,
   "metadata": {},
   "outputs": [
    {
     "data": {
      "text/plain": [
       "1.0    69047\n",
       "2.0     9686\n",
       "0.0     1060\n",
       "3.0      308\n",
       "4.0      300\n",
       "8.0        2\n",
       "6.0        1\n",
       "Name: Number.of.Engines, dtype: int64"
      ]
     },
     "execution_count": 96,
     "metadata": {},
     "output_type": "execute_result"
    }
   ],
   "source": [
    "df[\"Number.of.Engines\"].value_counts()\n",
    "#checking the value counts for number of engines"
   ]
  },
  {
   "cell_type": "code",
   "execution_count": 97,
   "metadata": {},
   "outputs": [],
   "source": [
    "#iterating through rows of df where number of engines is null, checking if there is a unique engine number associated with this make/model combo and if so imputing it\n",
    "for index, row in df[df['Number.of.Engines'].isnull()].iterrows():\n",
    "    same_make_model = df[(df['Make'] == row['Make']) & (df['Model'] == row['Model'])]\n",
    "    unique_engines = same_make_model['Number.of.Engines'].dropna().unique()\n",
    "    if len(unique_engines) == 1: \n",
    "        df.at[index, 'Number.of.Engines'] = unique_engines[0]"
   ]
  },
  {
   "cell_type": "code",
   "execution_count": 98,
   "metadata": {},
   "outputs": [
    {
     "data": {
      "text/plain": [
       "Event.Id                      0\n",
       "Investigation.Type            0\n",
       "Accident.Number               0\n",
       "Event.Date                    0\n",
       "Location                     42\n",
       "Country                     208\n",
       "Injury.Severity               0\n",
       "Aircraft.damage               0\n",
       "Aircraft.Category         54472\n",
       "Registration.Number         950\n",
       "Make                          0\n",
       "Model                         0\n",
       "Amateur.Built                46\n",
       "Number.of.Engines          1839\n",
       "Engine.Type                5568\n",
       "Purpose.of.flight          4210\n",
       "Total.Fatal.Injuries          0\n",
       "Total.Serious.Injuries    11719\n",
       "Total.Minor.Injuries      11021\n",
       "Total.Uninjured            5651\n",
       "Weather.Condition          3126\n",
       "Broad.phase.of.flight     25048\n",
       "Report.Status              5189\n",
       "Publication.Date          14507\n",
       "dtype: int64"
      ]
     },
     "execution_count": 98,
     "metadata": {},
     "output_type": "execute_result"
    }
   ],
   "source": [
    "df.isnull().sum()\n",
    "#checking again for total null entries per column"
   ]
  },
  {
   "cell_type": "code",
   "execution_count": 99,
   "metadata": {},
   "outputs": [],
   "source": [
    "# Dropping rows where 'Number.of.Engines' is null\n",
    "df = df.dropna(subset=['Number.of.Engines'])"
   ]
  },
  {
   "cell_type": "code",
   "execution_count": 101,
   "metadata": {},
   "outputs": [
    {
     "data": {
      "text/plain": [
       "Event.Id                      0\n",
       "Investigation.Type            0\n",
       "Accident.Number               0\n",
       "Event.Date                    0\n",
       "Location                     35\n",
       "Country                     207\n",
       "Injury.Severity               0\n",
       "Aircraft.damage               0\n",
       "Aircraft.Category         53595\n",
       "Registration.Number         515\n",
       "Make                          0\n",
       "Model                         0\n",
       "Amateur.Built                33\n",
       "Number.of.Engines             0\n",
       "Engine.Type                4503\n",
       "Purpose.of.flight          3549\n",
       "Total.Fatal.Injuries          0\n",
       "Total.Serious.Injuries    11367\n",
       "Total.Minor.Injuries      10635\n",
       "Total.Uninjured            5338\n",
       "Weather.Condition          2519\n",
       "Broad.phase.of.flight     23540\n",
       "Report.Status              4594\n",
       "Publication.Date          14255\n",
       "dtype: int64"
      ]
     },
     "execution_count": 101,
     "metadata": {},
     "output_type": "execute_result"
    }
   ],
   "source": [
    "#checking for null entries per column again\n",
    "df.isnull().sum()"
   ]
  },
  {
   "cell_type": "markdown",
   "metadata": {},
   "source": [
    "Here I will be cleaning and imputing the engine type column."
   ]
  },
  {
   "cell_type": "code",
   "execution_count": 103,
   "metadata": {},
   "outputs": [
    {
     "data": {
      "text/plain": [
       "Reciprocating      68900\n",
       "Turbo Shaft         3476\n",
       "Turbo Prop          3098\n",
       "Turbo Fan           1456\n",
       "Unknown             1223\n",
       "Turbo Jet            515\n",
       "None                  13\n",
       "Electric               8\n",
       "NONE                   2\n",
       "UNK                    1\n",
       "LR                     1\n",
       "Geared Turbofan        1\n",
       "Hybrid Rocket          1\n",
       "Name: Engine.Type, dtype: int64"
      ]
     },
     "execution_count": 103,
     "metadata": {},
     "output_type": "execute_result"
    }
   ],
   "source": [
    "df[\"Engine.Type\"].value_counts()\n",
    "#checking engine type value counts"
   ]
  },
  {
   "cell_type": "code",
   "execution_count": 104,
   "metadata": {},
   "outputs": [],
   "source": [
    "#checking for unique engine type of make/model combos when engine type is null and imputing it if there is only 1\n",
    "missing_engine_type = df[df['Engine.Type'].isnull()]\n",
    "\n",
    "for index, row in missing_engine_type.iterrows():\n",
    "    same_model = df[(df['Make'] == row['Make']) & (df['Model'] == row['Model']) & (~df['Engine.Type'].isnull())]\n",
    "\n",
    "    if len(same_model['Engine.Type'].unique()) == 1:\n",
    "        df.at[index, 'Engine.Type'] = same_model['Engine.Type'].iloc[0]"
   ]
  },
  {
   "cell_type": "code",
   "execution_count": 105,
   "metadata": {},
   "outputs": [
    {
     "data": {
      "text/plain": [
       "Event.Id                      0\n",
       "Investigation.Type            0\n",
       "Accident.Number               0\n",
       "Event.Date                    0\n",
       "Location                     35\n",
       "Country                     207\n",
       "Injury.Severity               0\n",
       "Aircraft.damage               0\n",
       "Aircraft.Category         53595\n",
       "Registration.Number         515\n",
       "Make                          0\n",
       "Model                         0\n",
       "Amateur.Built                33\n",
       "Number.of.Engines             0\n",
       "Engine.Type                1506\n",
       "Purpose.of.flight          3549\n",
       "Total.Fatal.Injuries          0\n",
       "Total.Serious.Injuries    11367\n",
       "Total.Minor.Injuries      10635\n",
       "Total.Uninjured            5338\n",
       "Weather.Condition          2519\n",
       "Broad.phase.of.flight     23540\n",
       "Report.Status              4594\n",
       "Publication.Date          14255\n",
       "dtype: int64"
      ]
     },
     "execution_count": 105,
     "metadata": {},
     "output_type": "execute_result"
    }
   ],
   "source": [
    "df.isnull().sum()\n",
    "#checking again for null values in each column"
   ]
  },
  {
   "cell_type": "code",
   "execution_count": 106,
   "metadata": {},
   "outputs": [],
   "source": [
    "#checking for unique engine type of makes when engine type is null and imputing it if there is only 1\n",
    "missing_engine_type = df[df['Engine.Type'].isnull()]\n",
    "\n",
    "for index, row in missing_engine_type.iterrows():\n",
    "    same_make = df[(df['Make'] == row['Make']) & (~df['Engine.Type'].isnull())]\n",
    "\n",
    "    if len(same_make['Engine.Type'].unique()) == 1:\n",
    "        df.at[index, 'Engine.Type'] = same_make['Engine.Type'].iloc[0]"
   ]
  },
  {
   "cell_type": "code",
   "execution_count": 107,
   "metadata": {},
   "outputs": [
    {
     "data": {
      "text/plain": [
       "Event.Id                      0\n",
       "Investigation.Type            0\n",
       "Accident.Number               0\n",
       "Event.Date                    0\n",
       "Location                     35\n",
       "Country                     207\n",
       "Injury.Severity               0\n",
       "Aircraft.damage               0\n",
       "Aircraft.Category         53595\n",
       "Registration.Number         515\n",
       "Make                          0\n",
       "Model                         0\n",
       "Amateur.Built                33\n",
       "Number.of.Engines             0\n",
       "Engine.Type                1246\n",
       "Purpose.of.flight          3549\n",
       "Total.Fatal.Injuries          0\n",
       "Total.Serious.Injuries    11367\n",
       "Total.Minor.Injuries      10635\n",
       "Total.Uninjured            5338\n",
       "Weather.Condition          2519\n",
       "Broad.phase.of.flight     23540\n",
       "Report.Status              4594\n",
       "Publication.Date          14255\n",
       "dtype: int64"
      ]
     },
     "execution_count": 107,
     "metadata": {},
     "output_type": "execute_result"
    }
   ],
   "source": [
    "df.isnull().sum()\n",
    "#checking again for null values in each column"
   ]
  },
  {
   "cell_type": "code",
   "execution_count": 108,
   "metadata": {},
   "outputs": [],
   "source": [
    "df.dropna(subset=['Engine.Type'], inplace=True)\n",
    "#dropping all rows that are still null for engine type"
   ]
  },
  {
   "cell_type": "code",
   "execution_count": 110,
   "metadata": {},
   "outputs": [
    {
     "data": {
      "text/plain": [
       "Event.Id                      0\n",
       "Investigation.Type            0\n",
       "Accident.Number               0\n",
       "Event.Date                    0\n",
       "Location                     35\n",
       "Country                     207\n",
       "Injury.Severity               0\n",
       "Aircraft.damage               0\n",
       "Aircraft.Category         53373\n",
       "Registration.Number         349\n",
       "Make                          0\n",
       "Model                         0\n",
       "Amateur.Built                25\n",
       "Number.of.Engines             0\n",
       "Engine.Type                   0\n",
       "Purpose.of.flight          3234\n",
       "Total.Fatal.Injuries          0\n",
       "Total.Serious.Injuries    11146\n",
       "Total.Minor.Injuries      10382\n",
       "Total.Uninjured            5150\n",
       "Weather.Condition          2155\n",
       "Broad.phase.of.flight     22417\n",
       "Report.Status              3906\n",
       "Publication.Date          14087\n",
       "dtype: int64"
      ]
     },
     "execution_count": 110,
     "metadata": {},
     "output_type": "execute_result"
    }
   ],
   "source": [
    "df.isnull().sum()\n",
    "#checking again for null entries across columns"
   ]
  },
  {
   "cell_type": "code",
   "execution_count": 111,
   "metadata": {},
   "outputs": [
    {
     "name": "stdout",
     "output_type": "stream",
     "text": [
      "  Investigation.Type  Total.Fatal.Injuries\n",
      "0           Accident              0.500939\n",
      "1           Incident              0.001900\n"
     ]
    }
   ],
   "source": [
    "#grouping the data by investigation type and checking the avg total fatalities per type\n",
    "average_fatalities_by_type = df.groupby('Investigation.Type')['Total.Fatal.Injuries'].mean().reset_index()\n",
    "\n",
    "print(average_fatalities_by_type)"
   ]
  },
  {
   "cell_type": "markdown",
   "metadata": {},
   "source": [
    "I am now creating a new column, damage severity, in which I convert aircraft damage into a numerical value to make it easier to use in analysis. "
   ]
  },
  {
   "cell_type": "code",
   "execution_count": 112,
   "metadata": {},
   "outputs": [
    {
     "name": "stdout",
     "output_type": "stream",
     "text": [
      "       Engine.Type  Damage_Severity\n",
      "1  Geared Turbofan         1.000000\n",
      "7        Turbo Fan         1.720321\n",
      "8        Turbo Jet         1.996198\n",
      "0         Electric         2.000000\n",
      "3               LR         2.000000\n"
     ]
    }
   ],
   "source": [
    "#Creating a numerical mapping of damage severity where minor = 1, substantial = 2, and destroyed = 3 and printing the mapping per engine type\n",
    "damage_severity_mapping = {'Minor': 1, 'Substantial': 2, 'Destroyed': 3}\n",
    "\n",
    "df['Damage_Severity'] = df['Aircraft.damage'].map(damage_severity_mapping)\n",
    "\n",
    "avg_damage_by_engine = df.groupby('Engine.Type')['Damage_Severity'].mean().reset_index().sort_values(by='Damage_Severity', ascending=True)\n",
    "print(avg_damage_by_engine.head())  \n"
   ]
  },
  {
   "cell_type": "markdown",
   "metadata": {},
   "source": [
    "I will now be cleaning and imputing the engine type column."
   ]
  },
  {
   "cell_type": "code",
   "execution_count": 113,
   "metadata": {},
   "outputs": [
    {
     "data": {
      "text/plain": [
       "Reciprocating      71110\n",
       "Turbo Shaft         3718\n",
       "Turbo Prop          3310\n",
       "Turbo Fan           1870\n",
       "Unknown             1357\n",
       "Turbo Jet            526\n",
       "None                  43\n",
       "Electric              11\n",
       "NONE                   3\n",
       "UNK                    1\n",
       "LR                     1\n",
       "Geared Turbofan        1\n",
       "Hybrid Rocket          1\n",
       "Name: Engine.Type, dtype: int64"
      ]
     },
     "execution_count": 113,
     "metadata": {},
     "output_type": "execute_result"
    }
   ],
   "source": [
    "df[\"Engine.Type\"].value_counts()\n",
    "#checking engine type value counts"
   ]
  },
  {
   "cell_type": "code",
   "execution_count": 115,
   "metadata": {},
   "outputs": [],
   "source": [
    "df['Engine.Type'] = df['Engine.Type'].str.title().str.strip()\n",
    "#cleaning engine type by formatting them the same, realizing I forgot to do it earlier"
   ]
  },
  {
   "cell_type": "code",
   "execution_count": 116,
   "metadata": {},
   "outputs": [],
   "source": [
    "#imputing correct engine types for ambiguous engine type entries if they are one of a kind for that model, if a unique engine type is not found row is deleted\n",
    "ambiguous_engine_types = ['None', 'Unknown', 'Unk']\n",
    "\n",
    "ambiguous_df = df[df['Engine.Type'].isin(ambiguous_engine_types)]\n",
    "\n",
    "imputable_models = df[~df['Engine.Type'].isin(ambiguous_engine_types)].groupby('Model')['Engine.Type'].nunique()\n",
    "imputable_models = imputable_models[imputable_models == 1].index.tolist()\n",
    "\n",
    "for model in imputable_models:\n",
    "    engine_type = df[(df['Model'] == model) & (~df['Engine.Type'].isin(ambiguous_engine_types))]['Engine.Type'].iloc[0]\n",
    "    df.loc[(df['Model'] == model) & (df['Engine.Type'].isin(ambiguous_engine_types)), 'Engine.Type'] = engine_type\n",
    "\n",
    "df = df[~df['Engine.Type'].isin(ambiguous_engine_types)]\n"
   ]
  },
  {
   "cell_type": "code",
   "execution_count": 117,
   "metadata": {},
   "outputs": [
    {
     "data": {
      "text/plain": [
       "Reciprocating      71429\n",
       "Turbo Shaft         3764\n",
       "Turbo Prop          3336\n",
       "Turbo Fan           1899\n",
       "Turbo Jet            530\n",
       "Electric              11\n",
       "Lr                     1\n",
       "Geared Turbofan        1\n",
       "Hybrid Rocket          1\n",
       "Name: Engine.Type, dtype: int64"
      ]
     },
     "execution_count": 117,
     "metadata": {},
     "output_type": "execute_result"
    }
   ],
   "source": [
    "#checking value counts for engine types\n",
    "df[\"Engine.Type\"].value_counts()"
   ]
  },
  {
   "cell_type": "markdown",
   "metadata": {},
   "source": [
    "Here I will be beginning my analysis. I will go about this by ranking engine number, engine type, and specific models via a composite safety score derived from the combination of average fatalities and average damage severity divided by 2. The lower the composite safety score, the safer the engine type, engine number, or model is. I will only be analyzing engine types, engine numbers, and models with atleast 10 instances."
   ]
  },
  {
   "cell_type": "markdown",
   "metadata": {},
   "source": [
    "## Engine Type Analysis"
   ]
  },
  {
   "cell_type": "code",
   "execution_count": 119,
   "metadata": {},
   "outputs": [
    {
     "name": "stdout",
     "output_type": "stream",
     "text": [
      "     Engine.Type  Avg_Fatality  Avg_Damage_Severity  Composite_Safety_Score\n",
      "0       Electric      0.090909             2.000000                1.045455\n",
      "1  Reciprocating      0.356256             2.199821                1.278038\n",
      "5    Turbo Shaft      0.532412             2.232465                1.382439\n",
      "4     Turbo Prop      0.906775             2.182254                1.544514\n",
      "3      Turbo Jet      1.545283             2.001887                1.773585\n"
     ]
    }
   ],
   "source": [
    "#creating composite safety score for engine types occuring atleast 10 times based on the mean of avg fatality and avg damage severity and displaying safest engine types\n",
    "engine_type_counts = df['Engine.Type'].value_counts()\n",
    "engine_types_with_at_least_10 = engine_type_counts[engine_type_counts >= 10].index\n",
    "\n",
    "engine_type_data = df[df['Engine.Type'].isin(engine_types_with_at_least_10)]\n",
    "engine_type_safety_scores = engine_type_data.groupby('Engine.Type').agg(\n",
    "    Avg_Fatality=('Total.Fatal.Injuries', 'mean'),\n",
    "    Avg_Damage_Severity=('Damage_Severity', 'mean')\n",
    ").reset_index()\n",
    "\n",
    "engine_type_safety_scores['Composite_Safety_Score'] = (engine_type_safety_scores['Avg_Fatality'] + engine_type_safety_scores['Avg_Damage_Severity']) / 2\n",
    "\n",
    "safest_engine_types = engine_type_safety_scores.sort_values(by='Composite_Safety_Score')\n",
    "\n",
    "print(safest_engine_types.head())\n"
   ]
  },
  {
   "cell_type": "markdown",
   "metadata": {},
   "source": [
    "It appears that Electric engines are the safest across all metrics, however there are only 11 entries with this engine type. Reciprocating Engines seem to be second safest based on the relevant factors and have many more instances in the dataset."
   ]
  },
  {
   "cell_type": "markdown",
   "metadata": {},
   "source": [
    "## Engine Number Analysis"
   ]
  },
  {
   "cell_type": "code",
   "execution_count": 120,
   "metadata": {},
   "outputs": [
    {
     "name": "stdout",
     "output_type": "stream",
     "text": [
      "   Number.of.Engines  Avg_Fatality  Avg_Damage_Severity  \\\n",
      "1                1.0      0.330223             2.193311   \n",
      "0                0.0      0.456929             2.123596   \n",
      "2                2.0      1.278695             2.190448   \n",
      "3                3.0      2.722222             1.524691   \n",
      "4                4.0      5.711656             1.723926   \n",
      "\n",
      "   Composite_Safety_Score  \n",
      "1                1.261767  \n",
      "0                1.290262  \n",
      "2                1.734572  \n",
      "3                2.123457  \n",
      "4                3.717791  \n"
     ]
    }
   ],
   "source": [
    "#creating composite safety score for engine numbers occuring atleast 10 times and displaying safest engine numbers\n",
    "engine_number_counts = df['Number.of.Engines'].value_counts()\n",
    "engine_numbers_with_at_least_10 = engine_number_counts[engine_number_counts >= 10].index\n",
    "\n",
    "engine_number_data = df[df['Number.of.Engines'].isin(engine_numbers_with_at_least_10)]\n",
    "engine_number_safety_scores = engine_number_data.groupby('Number.of.Engines').agg(\n",
    "    Avg_Fatality=('Total.Fatal.Injuries', 'mean'),\n",
    "    Avg_Damage_Severity=('Damage_Severity', 'mean')\n",
    ").reset_index()\n",
    "\n",
    "engine_number_safety_scores['Composite_Safety_Score'] = (engine_number_safety_scores['Avg_Fatality'] + engine_number_safety_scores['Avg_Damage_Severity']) / 2\n",
    "\n",
    "safest_engine_numbers = engine_number_safety_scores.sort_values(by='Composite_Safety_Score')\n",
    "\n",
    "print(safest_engine_numbers.head())\n"
   ]
  },
  {
   "cell_type": "markdown",
   "metadata": {},
   "source": [
    "Single engine aircraft seem to result in the least fatalities, while triple engine aircraft have the lowest damage severity. Single engines also have the best composite safety score."
   ]
  },
  {
   "cell_type": "markdown",
   "metadata": {},
   "source": [
    "## Model Analysis"
   ]
  },
  {
   "cell_type": "code",
   "execution_count": 121,
   "metadata": {
    "scrolled": true
   },
   "outputs": [
    {
     "name": "stdout",
     "output_type": "stream",
     "text": [
      "       Model  Avg_Fatality  Avg_Damage_Severity  Composite_Safety_Score\n",
      "316  727-223      0.000000             1.076923                0.538462\n",
      "330      787      0.000000             1.200000                0.600000\n",
      "536  DC-9-51      0.055556             1.166667                0.611111\n",
      "687    MD-80      0.000000             1.300000                0.650000\n",
      "315  727-200      0.000000             1.300000                0.650000\n"
     ]
    }
   ],
   "source": [
    "#creating composite safety score for models and displaying safest models\n",
    "model_counts = df['Model'].value_counts()\n",
    "models_with_at_least_10 = model_counts[model_counts >= 10].index\n",
    "\n",
    "model_data = df[df['Model'].isin(models_with_at_least_10)]\n",
    "model_safety_scores = model_data.groupby('Model').agg(\n",
    "    Avg_Fatality=('Total.Fatal.Injuries', 'mean'),\n",
    "    Avg_Damage_Severity=('Damage_Severity', 'mean')\n",
    ").reset_index()\n",
    "\n",
    "model_safety_scores['Composite_Safety_Score'] = (model_safety_scores['Avg_Fatality'] + model_safety_scores['Avg_Damage_Severity']) / 2\n",
    "\n",
    "safest_models = model_safety_scores.sort_values(by='Composite_Safety_Score')\n",
    "\n",
    "print(safest_models.head(5))\n"
   ]
  },
  {
   "cell_type": "markdown",
   "metadata": {},
   "source": [
    "The 727-223, 787, DC-9-51, MD-80, nad 727-200 seem to be the safest models based on the data. None of them have any fatalities except for the DC-9-51, and they each have exceptionally low average damage severity, and composite safety scores."
   ]
  },
  {
   "cell_type": "markdown",
   "metadata": {},
   "source": [
    "## Saving the Data for Export"
   ]
  },
  {
   "cell_type": "code",
   "execution_count": 122,
   "metadata": {},
   "outputs": [],
   "source": [
    "#here I am saving the data so that I can export it to make a tableau visualization\n",
    "#saving the df with the safest models to a CSV file\n",
    "safest_models.to_csv('safest_models.csv', index=False)\n",
    "\n",
    "#saving the df with the safest engine types to a CSV file\n",
    "safest_engine_types.to_csv('safest_engine_types.csv', index=False)\n",
    "\n",
    "#saving the df with the safest engine numbers to a CSV file\n",
    "safest_engine_numbers.to_csv('safest_engine_numbers.csv', index=False)\n"
   ]
  },
  {
   "cell_type": "code",
   "execution_count": 123,
   "metadata": {},
   "outputs": [],
   "source": [
    "#saving the top 5 entries of the df with the safest models to a CSV file\n",
    "safest_models.head(5).to_csv('safest_models_top_5.csv', index=False)"
   ]
  },
  {
   "cell_type": "markdown",
   "metadata": {},
   "source": [
    "## Descriptive Statistics"
   ]
  },
  {
   "cell_type": "code",
   "execution_count": 124,
   "metadata": {},
   "outputs": [
    {
     "name": "stdout",
     "output_type": "stream",
     "text": [
      "Descriptive Statistics for Total Fatal Injuries:\n",
      "count    80972.000000\n",
      "mean         0.481068\n",
      "std          3.913929\n",
      "min          0.000000\n",
      "25%          0.000000\n",
      "50%          0.000000\n",
      "75%          0.000000\n",
      "max        270.000000\n",
      "Name: Total.Fatal.Injuries, dtype: float64\n",
      "\n",
      "Descriptive Statistics for Engine Number:\n",
      "count    80972.000000\n",
      "mean         1.142630\n",
      "std          0.402591\n",
      "min          0.000000\n",
      "25%          1.000000\n",
      "50%          1.000000\n",
      "75%          1.000000\n",
      "max          8.000000\n",
      "Name: Number.of.Engines, dtype: float64\n",
      "\n",
      "Engine Type Counts:\n",
      "Reciprocating      71429\n",
      "Turbo Shaft         3764\n",
      "Turbo Prop          3336\n",
      "Turbo Fan           1899\n",
      "Turbo Jet            530\n",
      "Electric              11\n",
      "Lr                     1\n",
      "Geared Turbofan        1\n",
      "Hybrid Rocket          1\n",
      "Name: Engine.Type, dtype: int64\n",
      "\n",
      "Model Counts:\n",
      "152                2343\n",
      "172                1713\n",
      "172N               1153\n",
      "PA-28-140           918\n",
      "150                 817\n",
      "                   ... \n",
      "HUNTER MK.58          1\n",
      "PROTECH PT-2          1\n",
      "PA-38-125             1\n",
      "EXPRESS 2000 RG       1\n",
      "Ventus-CM             1\n",
      "Name: Model, Length: 10326, dtype: int64\n",
      "\n",
      "Unique Engine Types: 9\n",
      "Unique Models: 10326\n"
     ]
    }
   ],
   "source": [
    "#Getting descriptive statistics for total fatal injuries and engine number as well as the number of unique values for engine type and model\n",
    "print(\"Descriptive Statistics for Total Fatal Injuries:\")\n",
    "print(df['Total.Fatal.Injuries'].describe())\n",
    "\n",
    "print(\"\\nDescriptive Statistics for Engine Number:\")\n",
    "print(df['Number.of.Engines'].describe())\n",
    "\n",
    "print(\"\\nEngine Type Counts:\")\n",
    "print(df['Engine.Type'].value_counts())\n",
    "\n",
    "print(\"\\nModel Counts:\")\n",
    "print(df['Model'].value_counts())\n",
    "\n",
    "print(\"\\nUnique Engine Types:\", df['Engine.Type'].nunique())\n",
    "print(\"Unique Models:\", df['Model'].nunique())"
   ]
  },
  {
   "cell_type": "code",
   "execution_count": 125,
   "metadata": {},
   "outputs": [
    {
     "name": "stdout",
     "output_type": "stream",
     "text": [
      "Descriptive Statistics for Damage Severity Across the Dataset:\n",
      "count    80972.000000\n",
      "mean         2.188151\n",
      "std          0.453307\n",
      "min          1.000000\n",
      "25%          2.000000\n",
      "50%          2.000000\n",
      "75%          2.000000\n",
      "max          3.000000\n",
      "Name: Damage_Severity, dtype: float64\n"
     ]
    }
   ],
   "source": [
    "#Getting descriptive statistics for Damage Severity\n",
    "damage_severity_stats = df['Damage_Severity'].describe()\n",
    "\n",
    "print(\"Descriptive Statistics for Damage Severity Across the Dataset:\")\n",
    "print(damage_severity_stats)"
   ]
  },
  {
   "cell_type": "code",
   "execution_count": 126,
   "metadata": {},
   "outputs": [
    {
     "name": "stdout",
     "output_type": "stream",
     "text": [
      "Descriptive Statistics for Fatalities and Damage Severity by Engine Type:\n",
      "                Total.Fatal.Injuries                                \\\n",
      "                                mean        std  min    max  count   \n",
      "Engine.Type                                                          \n",
      "Electric                    0.090909   0.301511  0.0    1.0     11   \n",
      "Geared Turbofan             0.000000        NaN  0.0    0.0      1   \n",
      "Hybrid Rocket               1.000000        NaN  1.0    1.0      1   \n",
      "Lr                          0.000000        NaN  0.0    0.0      1   \n",
      "Reciprocating               0.356256   0.944514  0.0   82.0  71429   \n",
      "Turbo Fan                   4.031596  23.269146  0.0  270.0   1899   \n",
      "Turbo Jet                   1.545283  12.379431  0.0  256.0    530   \n",
      "Turbo Prop                  0.906775   3.231869  0.0   70.0   3336   \n",
      "Turbo Shaft                 0.532412   1.345166  0.0   25.0   3764   \n",
      "\n",
      "                Damage_Severity                    \n",
      "                           mean       std min max  \n",
      "Engine.Type                                        \n",
      "Electric               2.000000  0.632456   1   3  \n",
      "Geared Turbofan        1.000000       NaN   1   1  \n",
      "Hybrid Rocket          3.000000       NaN   3   3  \n",
      "Lr                     2.000000       NaN   2   2  \n",
      "Reciprocating          2.199821  0.428596   1   3  \n",
      "Turbo Fan              1.725118  0.681887   1   3  \n",
      "Turbo Jet              2.001887  0.739128   1   3  \n",
      "Turbo Prop             2.182254  0.567271   1   3  \n",
      "Turbo Shaft            2.232465  0.467831   1   3  \n"
     ]
    }
   ],
   "source": [
    "#Getting descriptive statistics for total fatal injuries and damage severity by engine type \n",
    "engine_type_stats = df.groupby('Engine.Type').agg({\n",
    "    'Total.Fatal.Injuries': ['mean', 'std', 'min', 'max', 'count'],\n",
    "    'Damage_Severity': ['mean', 'std', 'min', 'max']\n",
    "})\n",
    "\n",
    "print(\"Descriptive Statistics for Fatalities and Damage Severity by Engine Type:\")\n",
    "print(engine_type_stats)"
   ]
  },
  {
   "cell_type": "code",
   "execution_count": 127,
   "metadata": {},
   "outputs": [
    {
     "name": "stdout",
     "output_type": "stream",
     "text": [
      "Descriptive Statistics for the Top 5 Safest Models:\n",
      "        Total.Fatal.Injuries                           Damage_Severity  \\\n",
      "                        mean       std  min  max count            mean   \n",
      "Model                                                                    \n",
      "727-200             0.000000  0.000000  0.0  0.0    20        1.300000   \n",
      "727-223             0.000000  0.000000  0.0  0.0    13        1.076923   \n",
      "787                 0.000000  0.000000  0.0  0.0    10        1.200000   \n",
      "DC-9-51             0.055556  0.235702  0.0  1.0    18        1.166667   \n",
      "MD-80               0.000000  0.000000  0.0  0.0    10        1.300000   \n",
      "\n",
      "                           \n",
      "              std min max  \n",
      "Model                      \n",
      "727-200  0.470162   1   2  \n",
      "727-223  0.277350   1   2  \n",
      "787      0.421637   1   2  \n",
      "DC-9-51  0.383482   1   2  \n",
      "MD-80    0.483046   1   2  \n"
     ]
    }
   ],
   "source": [
    "#Getting descriptive statistics for total fatal injuries and damage severity by each of the top 5 safest models\n",
    "top_5_safest_models = safest_models.head()\n",
    "\n",
    "top_5_data = df[df['Model'].isin(top_5_safest_models['Model'])]\n",
    "\n",
    "top_5_stats = top_5_data.groupby('Model').agg({\n",
    "    'Total.Fatal.Injuries': ['mean', 'std', 'min', 'max', 'count'],\n",
    "    'Damage_Severity': ['mean', 'std', 'min', 'max']\n",
    "})\n",
    "\n",
    "print(\"Descriptive Statistics for the Top 5 Safest Models:\")\n",
    "print(top_5_stats)\n"
   ]
  },
  {
   "cell_type": "code",
   "execution_count": 128,
   "metadata": {},
   "outputs": [
    {
     "name": "stdout",
     "output_type": "stream",
     "text": [
      "Number of Unique Engine Numbers: 6\n",
      "1.0    69877\n",
      "2.0    10176\n",
      "4.0      326\n",
      "3.0      324\n",
      "0.0      267\n",
      "8.0        2\n",
      "Name: Number.of.Engines, dtype: int64\n"
     ]
    }
   ],
   "source": [
    "#Getting the number of unique engine numbers and their value counts\n",
    "unique_engine_numbers = df['Number.of.Engines'].nunique()\n",
    "\n",
    "print(f\"Number of Unique Engine Numbers: {unique_engine_numbers}\")\n",
    "print(df[\"Number.of.Engines\"].value_counts())"
   ]
  },
  {
   "cell_type": "markdown",
   "metadata": {},
   "source": [
    "## Engine Type Visualization\n",
    "\n",
    "This visualization displays average fatalities, damage severity, and composite safety scores for each engine type. It highlights the performance of electric and reciprocating engines, showing them to be among the safest options based on the aforementioned metrics."
   ]
  },
  {
   "cell_type": "code",
   "execution_count": 133,
   "metadata": {},
   "outputs": [
    {
     "data": {
      "image/png": "[encoded data removed]",
      "text/plain": [
       "<Figure size 1008x576 with 1 Axes>"
      ]
     },
     "metadata": {
      "needs_background": "light"
     },
     "output_type": "display_data"
    }
   ],
   "source": [
    "# Visualization shows side-by-side comparison of Composite Safety Score, Average Fatalities, and Average Damage Severity for each engine type.\n",
    "\n",
    "plt.figure(figsize=(14, 8))\n",
    "\n",
    "engine_types = safest_engine_types['Engine.Type'].unique()\n",
    "metrics = ['Composite_Safety_Score', 'Avg_Fatality', 'Avg_Damage_Severity']\n",
    "colors = ['blue', 'red', 'green']\n",
    "width = 0.25\n",
    "\n",
    "for i, metric in enumerate(metrics):\n",
    "    plt.bar(np.arange(len(engine_types)) + i * width, safest_engine_types[metric], width=width, label=metric, color=colors[i])\n",
    "\n",
    "plt.xticks(np.arange(len(engine_types)) + width, engine_types, rotation=45)\n",
    "plt.ylabel('Scores')\n",
    "plt.title('Safety Metrics by Engine Type')\n",
    "plt.legend()\n",
    "plt.tight_layout()\n",
    "plt.show()\n",
    "\n"
   ]
  },
  {
   "cell_type": "markdown",
   "metadata": {},
   "source": [
    "## Engine Number Visualization\n",
    "\n",
    "This visualization displays the composite safety scores, average fatalities, and average damage severity across different numbers of engines. It demonstrates that while fatalities are lowest for single engine aircrafts, damage severity is lowest for three engine aircrafts. The composite safety score is lowest for single engine aircrafts, indicating that they are, overall, the safest.\n"
   ]
  },
  {
   "cell_type": "code",
   "execution_count": 134,
   "metadata": {},
   "outputs": [
    {
     "data": {
      "image/png": "[encoded data removed]",
      "text/plain": [
       "<Figure size 1008x576 with 1 Axes>"
      ]
     },
     "metadata": {
      "needs_background": "light"
     },
     "output_type": "display_data"
    }
   ],
   "source": [
    "# Visualization compares Composite Safety Score, Average Fatalities, and Average Damage Severity for aircraft by engine number, excluding 0 and 8 engines.\n",
    "plt.figure(figsize=(14, 8))\n",
    "\n",
    "filtered_engine_numbers = safest_engine_numbers[~safest_engine_numbers['Number.of.Engines'].isin([0, 8])]\n",
    "\n",
    "engine_numbers = filtered_engine_numbers['Number.of.Engines'].unique()\n",
    "metrics = ['Composite_Safety_Score', 'Avg_Fatality', 'Avg_Damage_Severity']\n",
    "colors = ['blue', 'red', 'green']\n",
    "width = 0.25\n",
    "\n",
    "for i, metric in enumerate(metrics):\n",
    "    plt.bar(np.arange(len(engine_numbers)) + i * width, filtered_engine_numbers[metric], width=width, label=metric, color=colors[i])\n",
    "\n",
    "plt.xticks(np.arange(len(engine_numbers)) + width, engine_numbers)\n",
    "plt.ylabel('Scores')\n",
    "plt.title('Safety Metrics by Engine Number')\n",
    "plt.legend()\n",
    "plt.tight_layout()\n",
    "plt.show()\n"
   ]
  },
  {
   "cell_type": "markdown",
   "metadata": {},
   "source": [
    "## Top 5 Safest Models Visualization\n",
    "\n",
    "This visualization displays the composite safety scores for the top 5 safest aircraft models identified in my analysis. It demonstrates the superior safety performance of these five models, indicating their potential for those prioritizing safety in aircraft selection.\n"
   ]
  },
  {
   "cell_type": "code",
   "execution_count": 132,
   "metadata": {},
   "outputs": [
    {
     "data": {
      "image/png": "[encoded data removed]",
      "text/plain": [
       "<Figure size 720x432 with 1 Axes>"
      ]
     },
     "metadata": {
      "needs_background": "light"
     },
     "output_type": "display_data"
    }
   ],
   "source": [
    "top_5_safest_models = safest_models.head()\n",
    "\n",
    "plt.figure(figsize=(10, 6))\n",
    "\n",
    "sns.barplot(x='Model', y='Composite_Safety_Score', data=top_5_safest_models, palette='viridis')\n",
    "\n",
    "plt.title('Composite Safety Scores for the Top 5 Safest Models')\n",
    "plt.xticks(rotation=45)\n",
    "plt.ylabel('Composite Safety Score')\n",
    "plt.xlabel('Model')\n",
    "plt.show()"
   ]
  },
  {
   "cell_type": "markdown",
   "metadata": {},
   "source": [
    "## Analysis Summary and Recommendations\n",
    "\n",
    "### Descriptive Statistics Overview\n",
    "\n",
    "My analysis covered several key features: Engine Type, Number of Engines, and specific aircraft Models. I used \"Total Fatal Injuries\" and \"Damage Severity,\" a numerical indicator of aircraft damage, to inform measure safety and to create a composite safety score.\n",
    "\n",
    "- **Engine Types**: I observed variations in safety levels across different engine types. Electric engines had significantly lower average fatalities but also had few data entries. Reciprocating engines were second-safest, and also made up a large proportion of the datset. \n",
    "- **Number of Engines**: Single-engine aircraft had the lowest composite safety scores as well as the least total average fatalities. However, three-engine aircraft had the least average damage severity, with single, double and quadruple engine aircraft having similiar scores in this metric. Additionally, the 5 safest models (by composite safety score) each had one engine.\n",
    "- **Top 5 Safest Models**: Four of the five safest models (727-223, 787, 727-200, and MD-80) showed zero fatalities, showcasing exceptional safety levels. Additionally, each of the top five models had average damage severity scores ranging from 1.077 to 1.30, indicating that any aircraft damage beyond what would be classified as minor is a rarity. \n",
    "\n",
    "### Justification for Feature Inclusion\n",
    "\n",
    "The inclusion of Engine Type and Number of Engines was necessary for understanding safety dynamics across different aircraft configurations. This is because these features were the most indicative of safety outcomes in comparison to others such as \"Amateur built.\" The analysis of specific Models allowed for more specific and actionable safety recommendations including specific aircraft to be purchased. \n",
    "\n",
    "### Data Limitations\n",
    "\n",
    "- The limited number of entries for Electric engine types may skew perceptions of their safety.\n",
    "- The vast diversity in aircraft models (over 10,326 unique models) and the fact that many of them do not show up frequently in the dataset makes it difficult to make determinations that are generalizable across them all.\n",
    "- The dataset only includes flights that result in an incident or accident. This prevents any determinations from being made in regard to whether one aircraft is more or less likely to have an accident/incident than another. \n",
    "\n",
    "### Project Implications\n",
    "\n",
    "The project demonstrates important insights for stakeholders, my findings suggest that engine type and the number of engines in an aircraft are significant determinants of that aircraft's safety level. By prioritizing aircraft with lower composite safety scores, companies can enhance operational safety, their passengers' safety, and safeguard their aircraft investment. \n",
    "\n",
    "### Recommendations\n",
    "\n",
    "1. **Prioritize Aircraft with Single Engines and Reciprocating Engines**: These categories showed lower average fatalities and damage severity, indicating higher safety levels and better flight outcomes in the instance of an incident or accident.\n",
    "2. **Focus on Top Performing Models**: Aircraft like the 727-223, 787, 727-200, and the MD-80 have demonstrated superior safety records and should be considered for new purchases.\n",
    "3. **Further Research on Electric Engines**: Despite high safety scores, the limited data on electric engines calls for more extensive investigation before making any purchasing decisions.\n",
    "\n",
    "### Supporting Findings\n",
    "\n",
    "- Electric engines, despite minimal data, show potential as safer alternatives.\n",
    "- Reciprocating engines, which are quite common across the dataset, show a strong balance between performance and safety and come in second in regard to their composite safety score.\n",
    "- The exceptionally high safety scores of the aforementioned models demonstrate the importance of investigating specific models rather than just assessing engine configurations. \n",
    "\n",
    "By utilizing these recommendations, the company can navigate their aircraft purchase in a manner that prioritizes safety. Continued data collection and analysis, especially around emerging technologies like electric engines, will further refine these recommendations. Additionally, further data collection and analysis regarding the ratio of flights without incident/accident to flights with incidents/accidents would be pivotal in further understanding which models are safest. \n"
   ]
  }
 ],
 "metadata": {
  "kernelspec": {
   "display_name": "Python (learn-env)",
   "language": "python",
   "name": "learn-env"
  },
  "language_info": {
   "codemirror_mode": {
    "name": "ipython",
    "version": 3
   },
   "file_extension": ".py",
   "mimetype": "text/x-python",
   "name": "python",
   "nbconvert_exporter": "python",
   "pygments_lexer": "ipython3",
   "version": "3.8.5"
  }
 },
 "nbformat": 4,
 "nbformat_minor": 4
}
